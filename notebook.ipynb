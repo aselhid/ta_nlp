{
 "cells": [
  {
   "cell_type": "code",
   "execution_count": 2,
   "metadata": {},
   "outputs": [],
   "source": [
    "import pandas as pd"
   ]
  },
  {
   "cell_type": "code",
   "execution_count": 3,
   "metadata": {},
   "outputs": [],
   "source": [
    "raw_single = pd.read_csv('training_set/single_annotator.csv')"
   ]
  },
  {
   "cell_type": "code",
   "execution_count": 4,
   "metadata": {},
   "outputs": [
    {
     "data": {
      "text/html": [
       "<div>\n",
       "<style scoped>\n",
       "    .dataframe tbody tr th:only-of-type {\n",
       "        vertical-align: middle;\n",
       "    }\n",
       "\n",
       "    .dataframe tbody tr th {\n",
       "        vertical-align: top;\n",
       "    }\n",
       "\n",
       "    .dataframe thead th {\n",
       "        text-align: right;\n",
       "    }\n",
       "</style>\n",
       "<table border=\"1\" class=\"dataframe\">\n",
       "  <thead>\n",
       "    <tr style=\"text-align: right;\">\n",
       "      <th></th>\n",
       "      <th>kalimat_id</th>\n",
       "      <th>kata</th>\n",
       "      <th>sense</th>\n",
       "      <th>kalimat</th>\n",
       "    </tr>\n",
       "  </thead>\n",
       "  <tbody>\n",
       "    <tr>\n",
       "      <th>0</th>\n",
       "      <td>336691</td>\n",
       "      <td>cerah</td>\n",
       "      <td>4801</td>\n",
       "      <td>Cuaca cerah adalah lazim sepanjang tahun.</td>\n",
       "    </tr>\n",
       "    <tr>\n",
       "      <th>1</th>\n",
       "      <td>336270</td>\n",
       "      <td>cerah</td>\n",
       "      <td>4801</td>\n",
       "      <td>Gambar yang dihasilkan oleh layarnya cukup cer...</td>\n",
       "    </tr>\n",
       "    <tr>\n",
       "      <th>2</th>\n",
       "      <td>336555</td>\n",
       "      <td>cerah</td>\n",
       "      <td>4803</td>\n",
       "      <td>Masa depan yang cerah bagi pemuda berumur 20 d...</td>\n",
       "    </tr>\n",
       "    <tr>\n",
       "      <th>3</th>\n",
       "      <td>336618</td>\n",
       "      <td>cerah</td>\n",
       "      <td>4801</td>\n",
       "      <td>Cor Caroli (Alpha Canum Venaticorum), (nama le...</td>\n",
       "    </tr>\n",
       "    <tr>\n",
       "      <th>4</th>\n",
       "      <td>336613</td>\n",
       "      <td>cerah</td>\n",
       "      <td>4801</td>\n",
       "      <td>Sanders lebih menyukai cat air untuk Lilo deng...</td>\n",
       "    </tr>\n",
       "  </tbody>\n",
       "</table>\n",
       "</div>"
      ],
      "text/plain": [
       "   kalimat_id   kata sense                                            kalimat\n",
       "0      336691  cerah  4801          Cuaca cerah adalah lazim sepanjang tahun.\n",
       "1      336270  cerah  4801  Gambar yang dihasilkan oleh layarnya cukup cer...\n",
       "2      336555  cerah  4803  Masa depan yang cerah bagi pemuda berumur 20 d...\n",
       "3      336618  cerah  4801  Cor Caroli (Alpha Canum Venaticorum), (nama le...\n",
       "4      336613  cerah  4801  Sanders lebih menyukai cat air untuk Lilo deng..."
      ]
     },
     "execution_count": 4,
     "metadata": {},
     "output_type": "execute_result"
    }
   ],
   "source": [
    "raw_single.head()"
   ]
  }
 ],
 "metadata": {
  "kernelspec": {
   "display_name": "Python 3",
   "language": "python",
   "name": "python3"
  },
  "language_info": {
   "codemirror_mode": {
    "name": "ipython",
    "version": 3
   },
   "file_extension": ".py",
   "mimetype": "text/x-python",
   "name": "python",
   "nbconvert_exporter": "python",
   "pygments_lexer": "ipython3",
   "version": "3.5.2"
  }
 },
 "nbformat": 4,
 "nbformat_minor": 2
}
