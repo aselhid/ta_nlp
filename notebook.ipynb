{
 "cells": [
  {
   "cell_type": "code",
   "execution_count": 1,
   "metadata": {},
   "outputs": [],
   "source": [
    "import re\n",
    "import pandas as pd\n",
    "import string\n",
    "from Sastrawi.StopWordRemover.StopWordRemoverFactory import StopWordRemoverFactory\n",
    "from Sastrawi.Stemmer.StemmerFactory import StemmerFactory"
   ]
  },
  {
   "cell_type": "code",
   "execution_count": 2,
   "metadata": {},
   "outputs": [
    {
     "name": "stdout",
     "output_type": "stream",
     "text": [
      "double_annotator_agree.csv     triple_annotator_agree.csv\r\n",
      "double_annotator_disagree.csv  triple_annotator_disagree.csv\r\n",
      "single_annotator.csv\r\n"
     ]
    }
   ],
   "source": [
    "!ls training_set "
   ]
  },
  {
   "cell_type": "code",
   "execution_count": 3,
   "metadata": {},
   "outputs": [],
   "source": [
    "raw_single = pd.read_csv('training_set/single_annotator.csv')\n",
    "raw_double = pd.read_csv('training_set/double_annotator_agree.csv')\n",
    "raw_triple = pd.read_csv('training_set/triple_annotator_agree.csv')"
   ]
  },
  {
   "cell_type": "code",
   "execution_count": 4,
   "metadata": {},
   "outputs": [],
   "source": [
    "dataset = pd.concat([raw_single, raw_double, raw_triple])"
   ]
  },
  {
   "cell_type": "code",
   "execution_count": 5,
   "metadata": {},
   "outputs": [
    {
     "data": {
      "text/html": [
       "<div>\n",
       "<style scoped>\n",
       "    .dataframe tbody tr th:only-of-type {\n",
       "        vertical-align: middle;\n",
       "    }\n",
       "\n",
       "    .dataframe tbody tr th {\n",
       "        vertical-align: top;\n",
       "    }\n",
       "\n",
       "    .dataframe thead th {\n",
       "        text-align: right;\n",
       "    }\n",
       "</style>\n",
       "<table border=\"1\" class=\"dataframe\">\n",
       "  <thead>\n",
       "    <tr style=\"text-align: right;\">\n",
       "      <th></th>\n",
       "      <th>kalimat_id</th>\n",
       "      <th>kata</th>\n",
       "      <th>sense</th>\n",
       "      <th>kalimat</th>\n",
       "    </tr>\n",
       "  </thead>\n",
       "  <tbody>\n",
       "    <tr>\n",
       "      <th>0</th>\n",
       "      <td>336691</td>\n",
       "      <td>cerah</td>\n",
       "      <td>4801</td>\n",
       "      <td>Cuaca cerah adalah lazim sepanjang tahun.</td>\n",
       "    </tr>\n",
       "    <tr>\n",
       "      <th>1</th>\n",
       "      <td>336270</td>\n",
       "      <td>cerah</td>\n",
       "      <td>4801</td>\n",
       "      <td>Gambar yang dihasilkan oleh layarnya cukup cer...</td>\n",
       "    </tr>\n",
       "    <tr>\n",
       "      <th>2</th>\n",
       "      <td>336555</td>\n",
       "      <td>cerah</td>\n",
       "      <td>4803</td>\n",
       "      <td>Masa depan yang cerah bagi pemuda berumur 20 d...</td>\n",
       "    </tr>\n",
       "    <tr>\n",
       "      <th>3</th>\n",
       "      <td>336618</td>\n",
       "      <td>cerah</td>\n",
       "      <td>4801</td>\n",
       "      <td>Cor Caroli (Alpha Canum Venaticorum), (nama le...</td>\n",
       "    </tr>\n",
       "    <tr>\n",
       "      <th>4</th>\n",
       "      <td>336613</td>\n",
       "      <td>cerah</td>\n",
       "      <td>4801</td>\n",
       "      <td>Sanders lebih menyukai cat air untuk Lilo deng...</td>\n",
       "    </tr>\n",
       "  </tbody>\n",
       "</table>\n",
       "</div>"
      ],
      "text/plain": [
       "   kalimat_id   kata sense                                            kalimat\n",
       "0      336691  cerah  4801          Cuaca cerah adalah lazim sepanjang tahun.\n",
       "1      336270  cerah  4801  Gambar yang dihasilkan oleh layarnya cukup cer...\n",
       "2      336555  cerah  4803  Masa depan yang cerah bagi pemuda berumur 20 d...\n",
       "3      336618  cerah  4801  Cor Caroli (Alpha Canum Venaticorum), (nama le...\n",
       "4      336613  cerah  4801  Sanders lebih menyukai cat air untuk Lilo deng..."
      ]
     },
     "execution_count": 5,
     "metadata": {},
     "output_type": "execute_result"
    }
   ],
   "source": [
    "dataset.head()"
   ]
  },
  {
   "cell_type": "markdown",
   "metadata": {},
   "source": [
    "### Dataset cleaning"
   ]
  },
  {
   "cell_type": "code",
   "execution_count": 6,
   "metadata": {},
   "outputs": [],
   "source": [
    "stopword_remover = StopWordRemoverFactory().create_stop_word_remover()\n",
    "punctuation_tr = str.maketrans('', '', string.punctuation)\n",
    "stemmer = StemmerFactory().create_stemmer()"
   ]
  },
  {
   "cell_type": "code",
   "execution_count": 7,
   "metadata": {},
   "outputs": [],
   "source": [
    "cleaned_dataset = dataset.copy()"
   ]
  },
  {
   "cell_type": "code",
   "execution_count": 8,
   "metadata": {},
   "outputs": [],
   "source": [
    "cleaned_dataset['kalimat'] = cleaned_dataset['kalimat'].apply(lambda s: re.sub(\"[\\(\\[].*?[\\)\\]]\", \"\", s).lower())"
   ]
  },
  {
   "cell_type": "code",
   "execution_count": 9,
   "metadata": {},
   "outputs": [],
   "source": [
    "cleaned_dataset['kalimat'] = cleaned_dataset['kalimat'].apply(lambda s: stopword_remover.remove(s))"
   ]
  },
  {
   "cell_type": "code",
   "execution_count": 10,
   "metadata": {},
   "outputs": [],
   "source": [
    "cleaned_dataset['kalimat'] = cleaned_dataset['kalimat'].apply(lambda s: s.translate(punctuation_tr))"
   ]
  },
  {
   "cell_type": "code",
   "execution_count": null,
   "metadata": {},
   "outputs": [],
   "source": [
    "# test\n",
    "# cleaned_dataset['kalimat'] = cleaned_dataset['kalimat'].apply(lambda s: stemmer.stem(s))"
   ]
  },
  {
   "cell_type": "code",
   "execution_count": 18,
   "metadata": {},
   "outputs": [
    {
     "data": {
      "text/plain": [
       "'gambar hasil layar cukup cerah milik speaker mampu hasil suara keras jernih'"
      ]
     },
     "execution_count": 18,
     "metadata": {},
     "output_type": "execute_result"
    }
   ],
   "source": [
    "stemmer.stem(cleaned_dataset.iloc[1]['kalimat'])"
   ]
  }
 ],
 "metadata": {
  "kernelspec": {
   "display_name": "Python 3",
   "language": "python",
   "name": "python3"
  },
  "language_info": {
   "codemirror_mode": {
    "name": "ipython",
    "version": 3
   },
   "file_extension": ".py",
   "mimetype": "text/x-python",
   "name": "python",
   "nbconvert_exporter": "python",
   "pygments_lexer": "ipython3",
   "version": "3.5.2"
  }
 },
 "nbformat": 4,
 "nbformat_minor": 2
}
