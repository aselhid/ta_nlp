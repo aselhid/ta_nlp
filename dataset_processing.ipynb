{
 "cells": [
  {
   "cell_type": "code",
   "execution_count": 1,
   "metadata": {},
   "outputs": [],
   "source": [
    "import re\n",
    "import pandas as pd\n",
    "import string\n",
    "from Sastrawi.StopWordRemover.StopWordRemoverFactory import StopWordRemoverFactory\n",
    "from Sastrawi.Stemmer.StemmerFactory import StemmerFactory"
   ]
  },
  {
   "cell_type": "code",
   "execution_count": 2,
   "metadata": {},
   "outputs": [
    {
     "name": "stdout",
     "output_type": "stream",
     "text": [
      "cleaned_agreed.csv\t       pos_tagged.csv\r\n",
      "cleaned_single.csv\t       single_annotator.csv\r\n",
      "double_annotator_agree.csv     triple_annotator_agree.csv\r\n",
      "double_annotator_disagree.csv  triple_annotator_disagree.csv\r\n"
     ]
    }
   ],
   "source": [
    "!ls training_set "
   ]
  },
  {
   "cell_type": "code",
   "execution_count": 3,
   "metadata": {},
   "outputs": [],
   "source": [
    "raw_single = pd.read_csv('training_set/single_annotator.csv')\n",
    "raw_double = pd.read_csv('training_set/double_annotator_agree.csv')\n",
    "raw_triple = pd.read_csv('training_set/triple_annotator_agree.csv')"
   ]
  },
  {
   "cell_type": "code",
   "execution_count": 4,
   "metadata": {},
   "outputs": [],
   "source": [
    "dataset = pd.concat([raw_single, raw_double, raw_triple])"
   ]
  },
  {
   "cell_type": "code",
   "execution_count": 5,
   "metadata": {},
   "outputs": [
    {
     "data": {
      "text/html": [
       "<div>\n",
       "<style scoped>\n",
       "    .dataframe tbody tr th:only-of-type {\n",
       "        vertical-align: middle;\n",
       "    }\n",
       "\n",
       "    .dataframe tbody tr th {\n",
       "        vertical-align: top;\n",
       "    }\n",
       "\n",
       "    .dataframe thead th {\n",
       "        text-align: right;\n",
       "    }\n",
       "</style>\n",
       "<table border=\"1\" class=\"dataframe\">\n",
       "  <thead>\n",
       "    <tr style=\"text-align: right;\">\n",
       "      <th></th>\n",
       "      <th>kalimat_id</th>\n",
       "      <th>kata</th>\n",
       "      <th>sense</th>\n",
       "      <th>kalimat</th>\n",
       "    </tr>\n",
       "  </thead>\n",
       "  <tbody>\n",
       "    <tr>\n",
       "      <th>0</th>\n",
       "      <td>336691</td>\n",
       "      <td>cerah</td>\n",
       "      <td>4801</td>\n",
       "      <td>Cuaca cerah adalah lazim sepanjang tahun.</td>\n",
       "    </tr>\n",
       "    <tr>\n",
       "      <th>1</th>\n",
       "      <td>336270</td>\n",
       "      <td>cerah</td>\n",
       "      <td>4801</td>\n",
       "      <td>Gambar yang dihasilkan oleh layarnya cukup cer...</td>\n",
       "    </tr>\n",
       "    <tr>\n",
       "      <th>2</th>\n",
       "      <td>336555</td>\n",
       "      <td>cerah</td>\n",
       "      <td>4803</td>\n",
       "      <td>Masa depan yang cerah bagi pemuda berumur 20 d...</td>\n",
       "    </tr>\n",
       "    <tr>\n",
       "      <th>3</th>\n",
       "      <td>336618</td>\n",
       "      <td>cerah</td>\n",
       "      <td>4801</td>\n",
       "      <td>Cor Caroli (Alpha Canum Venaticorum), (nama le...</td>\n",
       "    </tr>\n",
       "    <tr>\n",
       "      <th>4</th>\n",
       "      <td>336613</td>\n",
       "      <td>cerah</td>\n",
       "      <td>4801</td>\n",
       "      <td>Sanders lebih menyukai cat air untuk Lilo deng...</td>\n",
       "    </tr>\n",
       "  </tbody>\n",
       "</table>\n",
       "</div>"
      ],
      "text/plain": [
       "   kalimat_id   kata sense                                            kalimat\n",
       "0      336691  cerah  4801          Cuaca cerah adalah lazim sepanjang tahun.\n",
       "1      336270  cerah  4801  Gambar yang dihasilkan oleh layarnya cukup cer...\n",
       "2      336555  cerah  4803  Masa depan yang cerah bagi pemuda berumur 20 d...\n",
       "3      336618  cerah  4801  Cor Caroli (Alpha Canum Venaticorum), (nama le...\n",
       "4      336613  cerah  4801  Sanders lebih menyukai cat air untuk Lilo deng..."
      ]
     },
     "execution_count": 5,
     "metadata": {},
     "output_type": "execute_result"
    }
   ],
   "source": [
    "dataset.head()"
   ]
  },
  {
   "cell_type": "markdown",
   "metadata": {},
   "source": [
    "### Dataset cleaning"
   ]
  },
  {
   "cell_type": "code",
   "execution_count": 12,
   "metadata": {},
   "outputs": [],
   "source": [
    "stopword_remover = StopWordRemoverFactory().create_stop_word_remover()\n",
    "punctuation_tr = str.maketrans('', '', string.punctuation.replace('-', '') + '–')\n",
    "stemmer = StemmerFactory().create_stemmer()"
   ]
  },
  {
   "cell_type": "code",
   "execution_count": 13,
   "metadata": {},
   "outputs": [],
   "source": [
    "cleaned_dataset = dataset.copy()"
   ]
  },
  {
   "cell_type": "code",
   "execution_count": 14,
   "metadata": {},
   "outputs": [],
   "source": [
    "cleaned_dataset['kalimat'] = cleaned_dataset['kalimat'].apply(lambda s: s.lower())"
   ]
  },
  {
   "cell_type": "code",
   "execution_count": 9,
   "metadata": {},
   "outputs": [],
   "source": [
    "# cleaned_dataset['kalimat'] = cleaned_dataset['kalimat'].apply(lambda s: re.sub(\"[\\(\\[].*?[\\)\\]]\", \"\", s))"
   ]
  },
  {
   "cell_type": "code",
   "execution_count": 15,
   "metadata": {},
   "outputs": [],
   "source": [
    "cleaned_dataset['kalimat'] = cleaned_dataset['kalimat'].apply(lambda s: s.translate(punctuation_tr).replace('-', ' '))"
   ]
  },
  {
   "cell_type": "code",
   "execution_count": 11,
   "metadata": {},
   "outputs": [],
   "source": [
    "cleaned_dataset.to_csv('training_set/cleaned_agreed.csv', index=False)"
   ]
  },
  {
   "cell_type": "markdown",
   "metadata": {},
   "source": [
    "## a"
   ]
  },
  {
   "cell_type": "code",
   "execution_count": 18,
   "metadata": {},
   "outputs": [],
   "source": [
    "c = dataset.copy()\n",
    "c['kalimat'] = c['kalimat'].apply(lambda s: s.lower())"
   ]
  },
  {
   "cell_type": "code",
   "execution_count": 20,
   "metadata": {},
   "outputs": [],
   "source": [
    "c['r'] = c['kalimat'].apply(lambda s: re.sub(\"[\\(\\[].*?[\\)\\]]\", \"\", s))"
   ]
  },
  {
   "cell_type": "code",
   "execution_count": 29,
   "metadata": {},
   "outputs": [],
   "source": [
    "pd.set_option('display.max_colwidth', -1)\n"
   ]
  },
  {
   "cell_type": "code",
   "execution_count": 30,
   "metadata": {},
   "outputs": [
    {
     "data": {
      "text/plain": [
       "kalimat_id    831749                                                                                                                           \n",
       "kata          jam                                                                                                                              \n",
       "sense         0901                                                                                                                             \n",
       "kalimat       kota-kotanya adalah (searah jarum jam dari utara): bushwick, brooklyn, flatlands, gravesend, new utrecht, dan flatbush di tengah.\n",
       "r             kota-kotanya adalah : bushwick, brooklyn, flatlands, gravesend, new utrecht, dan flatbush di tengah.                             \n",
       "Name: 117, dtype: object"
      ]
     },
     "metadata": {},
     "output_type": "display_data"
    },
    {
     "data": {
      "text/plain": [
       "kalimat_id    839368                                                                                                                                                                                                                                          \n",
       "kata          jaringan                                                                                                                                                                                                                                        \n",
       "sense         3602                                                                                                                                                                                                                                            \n",
       "kalimat       abs-cbn (inisial bagi nama jaringan sebelumnya, alto broadcasting system - chronicle broadcasting network) adalah stasiun televisi terbesar dan tertua di filipina dengan pendapatan dari iklan mencapai 21.2 miliar php pada tahun fiskal 2015.\n",
       "r             abs-cbn  adalah stasiun televisi terbesar dan tertua di filipina dengan pendapatan dari iklan mencapai 21.2 miliar php pada tahun fiskal 2015.                                                                                                  \n",
       "Name: 283, dtype: object"
      ]
     },
     "metadata": {},
     "output_type": "display_data"
    },
    {
     "data": {
      "text/plain": [
       "kalimat_id    575117                                                  \n",
       "kata          dalam                                                   \n",
       "sense         4012                                                    \n",
       "kalimat       ia adalah scavenger (alias devastar dalam versi jepang).\n",
       "r             ia adalah scavenger .                                   \n",
       "Name: 432, dtype: object"
      ]
     },
     "metadata": {},
     "output_type": "display_data"
    },
    {
     "data": {
      "text/plain": [
       "kalimat_id    403539                                                                                                                               \n",
       "kata          dalam                                                                                                                                \n",
       "sense         4007                                                                                                                                 \n",
       "kalimat       walaupun lebih mahal dan ukurannya lebih besar (sehingga sedikit pesawat yang akan muat dalam kapal induk), al soviet memilih su-27k.\n",
       "r             walaupun lebih mahal dan ukurannya lebih besar , al soviet memilih su-27k.                                                           \n",
       "Name: 442, dtype: object"
      ]
     },
     "metadata": {},
     "output_type": "display_data"
    },
    {
     "data": {
      "text/plain": [
       "kalimat_id    834003                                                                                                                                                                                                                  \n",
       "kata          jaringan                                                                                                                                                                                                                \n",
       "sense         3602                                                                                                                                                                                                                    \n",
       "kalimat       teknologi yang berkembang tidak kompatibel satu dengan yang alinnya sehingga hal ini membatasi mobilitas subscriber yang hanya bisa digunakan di dalam areanya saja (tidak memungkinkan roaming ke dalam jaringan lain).\n",
       "r             teknologi yang berkembang tidak kompatibel satu dengan yang alinnya sehingga hal ini membatasi mobilitas subscriber yang hanya bisa digunakan di dalam areanya saja .                                                   \n",
       "Name: 632, dtype: object"
      ]
     },
     "metadata": {},
     "output_type": "display_data"
    },
    {
     "data": {
      "text/plain": [
       "kalimat_id    836532                                                                                                                                                                                                                                                                                                                                 \n",
       "kata          jaringan                                                                                                                                                                                                                                                                                                                               \n",
       "sense         3603                                                                                                                                                                                                                                                                                                                                   \n",
       "kalimat       (osborn, 2003) juga diketahui bahwa perusahaan patungan di negeri yang perkembangannya rendah menunjukkan ketakstabilan besar, dan perusahaan patungan yang melibatkan mitra pemerintah memiliki kemungkinan besar untuk gagal (perusahaan swasta tampak lebih terlengkapi untuk mendukung kecakapan penting, jaringan pemasaran, dll).\n",
       "r              juga diketahui bahwa perusahaan patungan di negeri yang perkembangannya rendah menunjukkan ketakstabilan besar, dan perusahaan patungan yang melibatkan mitra pemerintah memiliki kemungkinan besar untuk gagal .                                                                                                                     \n",
       "Name: 635, dtype: object"
      ]
     },
     "metadata": {},
     "output_type": "display_data"
    },
    {
     "data": {
      "text/plain": [
       "kalimat_id    71890                                                                                                                                                                                       \n",
       "kata          badan                                                                                                                                                                                       \n",
       "sense         1403                                                                                                                                                                                        \n",
       "kalimat       hal ini membuat desemvirat menjadi magistrasi yang luar biasa (yaitu badan pemerintahan dengan kekuatan luar biasa), yang juga merupakan sebuah komisi yang bertugas menyusun undang-undang.\n",
       "r             hal ini membuat desemvirat menjadi magistrasi yang luar biasa , yang juga merupakan sebuah komisi yang bertugas menyusun undang-undang.                                                     \n",
       "Name: 814, dtype: object"
      ]
     },
     "metadata": {},
     "output_type": "display_data"
    },
    {
     "data": {
      "text/plain": [
       "kalimat_id    1013524                                                                                                                                                                     \n",
       "kata          mengisi                                                                                                                                                                     \n",
       "sense         3201                                                                                                                                                                        \n",
       "kalimat       kelajuan di mana puncak-puncak individu dan palung dari gelombang bidang (gelombang mengisi seluruh ruang, dengan hanya satu frekuensi) merambat disebut kecepatan fase \"v\".\n",
       "r             kelajuan di mana puncak-puncak individu dan palung dari gelombang bidang  merambat disebut kecepatan fase \"v\".                                                              \n",
       "Name: 1154, dtype: object"
      ]
     },
     "metadata": {},
     "output_type": "display_data"
    },
    {
     "data": {
      "text/plain": [
       "kalimat_id    1046900                                                                                            \n",
       "kata          panas                                                                                              \n",
       "sense         4904                                                                                               \n",
       "kalimat       setelah ritual \"harae\", ?nusa dibersihkan dengan memercikkan air (air panas bercampur garam dapur).\n",
       "r             setelah ritual \"harae\", ?nusa dibersihkan dengan memercikkan air .                                 \n",
       "Name: 1206, dtype: object"
      ]
     },
     "metadata": {},
     "output_type": "display_data"
    },
    {
     "data": {
      "text/plain": [
       "kalimat_id    38490                                                                                                                                                                                                                                                                                                                                                                                                                                                                                                                                   \n",
       "kata          atas                                                                                                                                                                                                                                                                                                                                                                                                                                                                                                                                    \n",
       "sense         4406                                                                                                                                                                                                                                                                                                                                                                                                                                                                                                                                    \n",
       "kalimat       hal tersebut juga dijelaskan pada magna charta universitatum (eua,1988) yang berbunyi \"freedom in research and training is the fundamental principle of university life, and government and universities, each as far as in them lies, must ensure respect for this fundamental requirement\" (kebebasan di dalam penelitian dan pelatihan adalah prinsip dasar dari kehidupan universitas, serta pemerintah dan universitas, masing-masing sejauh apa yang mereka ketahui, harus meyakinkan penghormatan atas kebutuhan dasar tersebut).\n",
       "r             hal tersebut juga dijelaskan pada magna charta universitatum  yang berbunyi \"freedom in research and training is the fundamental principle of university life, and government and universities, each as far as in them lies, must ensure respect for this fundamental requirement\" .                                                                                                                                                                                                                                                    \n",
       "Name: 1248, dtype: object"
      ]
     },
     "metadata": {},
     "output_type": "display_data"
    },
    {
     "data": {
      "text/plain": [
       "kalimat_id    336283                                                                                                                                                                                                                                                                                                \n",
       "kata          cerah                                                                                                                                                                                                                                                                                                 \n",
       "sense         4801                                                                                                                                                                                                                                                                                                  \n",
       "kalimat       astaxanthin, bersama dengan \"lutein\" (ditemukan dalam sayuran berdaun hijau seperti bayam dan kangkung), \"lycopene\" (ditemukan dalam tomat dan buah-buahan berwarna merah dan sayuran lainnya) dan beta-karoten (ditemukan dalam sayuran berwarna cerah seperti wortel) adalah karotenoid antioksidan.\n",
       "r             astaxanthin, bersama dengan \"lutein\" , \"lycopene\"  dan beta-karoten  adalah karotenoid antioksidan.                                                                                                                                                                                                   \n",
       "Name: 1302, dtype: object"
      ]
     },
     "metadata": {},
     "output_type": "display_data"
    },
    {
     "data": {
      "text/plain": [
       "kalimat_id    928450                                                                                                                                                                                      \n",
       "kata          layar                                                                                                                                                                                       \n",
       "sense         1602                                                                                                                                                                                        \n",
       "kalimat       \"programmer baik memperkembangkan set-set perintah untuk melakukan tugas biasa (misalnya, menggambar titik di layar) dan lalu membuat set-set perintah itu tersedia kepada programmer lain\".\n",
       "r             \"programmer baik memperkembangkan set-set perintah untuk melakukan tugas biasa  dan lalu membuat set-set perintah itu tersedia kepada programmer lain\".                                     \n",
       "Name: 1318, dtype: object"
      ]
     },
     "metadata": {},
     "output_type": "display_data"
    },
    {
     "data": {
      "text/plain": [
       "kalimat_id    927026                                                                                                                                                                                                 \n",
       "kata          layar                                                                                                                                                                                                  \n",
       "sense         1602                                                                                                                                                                                                   \n",
       "kalimat       diproduksi oleh samuel goldwyn dan disutradarai oleh f. richard jones, film tersebut diadaptasi oleh sidney howard dari sebuah drama karya herman c. mcneile (disebut di layar lebar sebagai \"sapper\").\n",
       "r             diproduksi oleh samuel goldwyn dan disutradarai oleh f. richard jones, film tersebut diadaptasi oleh sidney howard dari sebuah drama karya herman c. mcneile .                                         \n",
       "Name: 1328, dtype: object"
      ]
     },
     "metadata": {},
     "output_type": "display_data"
    },
    {
     "data": {
      "text/plain": [
       "kalimat_id    737454                                                                                                                                                             \n",
       "kata          dunia                                                                                                                                                              \n",
       "sense         1302                                                                                                                                                               \n",
       "kalimat       nama-nama ibrani yang digunakan oleh orang-orang yahudi (bersama dengan nama-nama ibrani banyak digunakan di dunia orang kristen) sering datang dari tanakh yahudi.\n",
       "r             nama-nama ibrani yang digunakan oleh orang-orang yahudi  sering datang dari tanakh yahudi.                                                                         \n",
       "Name: 1427, dtype: object"
      ]
     },
     "metadata": {},
     "output_type": "display_data"
    },
    {
     "data": {
      "text/plain": [
       "kalimat_id    328864                                                                 \n",
       "kata          bunga                                                                  \n",
       "sense         0601                                                                   \n",
       "kalimat       antosianin (dari bahasa yunani \"anthos\" , bunga dan \"kyanos\", biru-tua)\n",
       "r             antosianin                                                             \n",
       "Name: 1536, dtype: object"
      ]
     },
     "metadata": {},
     "output_type": "display_data"
    },
    {
     "data": {
      "text/plain": [
       "kalimat_id    325557                                                                             \n",
       "kata          bunga                                                                              \n",
       "sense         0601                                                                               \n",
       "kalimat       tanaman (bunga) hias biasanya adalah tanaman yang digunakan untuk memperindah taman\n",
       "r             tanaman  hias biasanya adalah tanaman yang digunakan untuk memperindah taman       \n",
       "Name: 1545, dtype: object"
      ]
     },
     "metadata": {},
     "output_type": "display_data"
    },
    {
     "data": {
      "text/plain": [
       "kalimat_id    335435                                                                                                                                                                                                                                                                  \n",
       "kata          cabang                                                                                                                                                                                                                                                                  \n",
       "sense         5001                                                                                                                                                                                                                                                                    \n",
       "kalimat       sementara otak intelektual di belakangnya adalah \"kh ma'aruf amin dan kh amidhan\", di mana dibantu oleh beberapa sap(senior perush gtis/kepala cabang gtis) yakni \"anita sarlim\" dari bandung,\"yuli dari bali, roni (gm gtis), agus subarkah, vera, jimmy, marselo\" dkk.\n",
       "r             sementara otak intelektual di belakangnya adalah \"kh ma'aruf amin dan kh amidhan\", di mana dibantu oleh beberapa sap yakni \"anita sarlim\" dari bandung,\"yuli dari bali, roni , agus subarkah, vera, jimmy, marselo\" dkk.                                                \n",
       "Name: 1574, dtype: object"
      ]
     },
     "metadata": {},
     "output_type": "display_data"
    },
    {
     "data": {
      "text/plain": [
       "kalimat_id    989554                                                                                                                                                                                                                                                                                                                             \n",
       "kata          menerima                                                                                                                                                                                                                                                                                                                           \n",
       "sense         3101                                                                                                                                                                                                                                                                                                                               \n",
       "kalimat       adams dicatat sebagai orang yang mencarter kapal segel merah dalam perjalanannya di kemudian hari ke asia tenggara (buku \"ikoku tokai goshuinj?\" mencatat miura anjin pada tahun 1614 menerima sebuah \"shuinj?\" atau dokumen yang telah diberi stempel merah keshogunan berisi izin pemegangnya untuk melakukan perdagangan asing).\n",
       "r             adams dicatat sebagai orang yang mencarter kapal segel merah dalam perjalanannya di kemudian hari ke asia tenggara .                                                                                                                                                                                                               \n",
       "Name: 1629, dtype: object"
      ]
     },
     "metadata": {},
     "output_type": "display_data"
    },
    {
     "data": {
      "text/plain": [
       "kalimat_id    120891                                                                                                                                                         \n",
       "kata          baru                                                                                                                                                           \n",
       "sense         3902                                                                                                                                                           \n",
       "kalimat       sebagai contoh dapat dicari tahu dengan cepat berapa gnp atau gdp suatu negara tentang suatu perusahaan publik (sementara ini baru perusahaan amerika serikat).\n",
       "r             sebagai contoh dapat dicari tahu dengan cepat berapa gnp atau gdp suatu negara tentang suatu perusahaan publik .                                               \n",
       "Name: 1750, dtype: object"
      ]
     },
     "metadata": {},
     "output_type": "display_data"
    },
    {
     "data": {
      "text/plain": [
       "kalimat_id    327811                                                                                                                                                               \n",
       "kata          bunga                                                                                                                                                                \n",
       "sense         0601                                                                                                                                                                 \n",
       "kalimat       sumber alami lain dari karnitina selain daging adalah kacang-kacangan, dan kuaci (misalnya: kuaci labu, kuaci biji bunga matahari, wijen), buncis, dan sayur-sayuran.\n",
       "r             sumber alami lain dari karnitina selain daging adalah kacang-kacangan, dan kuaci , buncis, dan sayur-sayuran.                                                        \n",
       "Name: 1977, dtype: object"
      ]
     },
     "metadata": {},
     "output_type": "display_data"
    },
    {
     "data": {
      "text/plain": [
       "kalimat_id    897963                               \n",
       "kata          kepala                               \n",
       "sense         0302                                 \n",
       "kalimat       (mantan kepala kua kecamatan winong).\n",
       "r             .                                    \n",
       "Name: 2155, dtype: object"
      ]
     },
     "metadata": {},
     "output_type": "display_data"
    },
    {
     "data": {
      "text/plain": [
       "kalimat_id    954621                                                                                                                                                                                                                                                                                                                                                                                       \n",
       "kata          membawa                                                                                                                                                                                                                                                                                                                                                                                      \n",
       "sense         3005                                                                                                                                                                                                                                                                                                                                                                                         \n",
       "kalimat       pejuang asing asal polandia miros?aw kuleba (mehmed borz), yang menemui raduyev dua bulan setelah krisis, ini memungkinkan raduyev untuk memicu perang sipil yang lebih luas di dagestan (kuleba menulis bahwa raduyev ingin mencoba untuk bersembunyi dalam percakapan yang mendapatkan rumah sakit dan membawa para sandera betul-betul direncanakan dan bukan merupakan ukuran putus asa).\n",
       "r             pejuang asing asal polandia miros?aw kuleba , yang menemui raduyev dua bulan setelah krisis, ini memungkinkan raduyev untuk memicu perang sipil yang lebih luas di dagestan .                                                                                                                                                                                                                \n",
       "Name: 2190, dtype: object"
      ]
     },
     "metadata": {},
     "output_type": "display_data"
    },
    {
     "data": {
      "text/plain": [
       "kalimat_id    17267                                                                                                                                                                                               \n",
       "kata          atas                                                                                                                                                                                                \n",
       "sense         4407                                                                                                                                                                                                \n",
       "kalimat       hogwarts mempekerjakan lebih dari seratus peri rumah, termasuk dobby, winky, dan belakangan, kreacher (yang bekerja di sana atas perintah harry potter setelah peri rumah itu diwariskan kepadanya).\n",
       "r             hogwarts mempekerjakan lebih dari seratus peri rumah, termasuk dobby, winky, dan belakangan, kreacher .                                                                                             \n",
       "Name: 2227, dtype: object"
      ]
     },
     "metadata": {},
     "output_type": "display_data"
    },
    {
     "data": {
      "text/plain": [
       "kalimat_id    110806                                                                                                                                                                                                                                                                                                          \n",
       "kata          baru                                                                                                                                                                                                                                                                                                            \n",
       "sense         3902                                                                                                                                                                                                                                                                                                            \n",
       "kalimat       setelah ditemukan oleh penjelajah belanda pada 1606, separuh timur australia diakui sebagai milik britania pada 1770, dan mulai diduduki sejak penentuan koloni tahanan di new south wales, yang secara resmi didirikan pada 7 februari 1788 (meskipun kepemilikan formal baru dinyatakan pada 26 januari 1788).\n",
       "r             setelah ditemukan oleh penjelajah belanda pada 1606, separuh timur australia diakui sebagai milik britania pada 1770, dan mulai diduduki sejak penentuan koloni tahanan di new south wales, yang secara resmi didirikan pada 7 februari 1788 .                                                                  \n",
       "Name: 2245, dtype: object"
      ]
     },
     "metadata": {},
     "output_type": "display_data"
    },
    {
     "data": {
      "text/plain": [
       "kalimat_id    825768                                                                                                                \n",
       "kata          jam                                                                                                                   \n",
       "sense         0902                                                                                                                  \n",
       "kalimat       keseluruhan buku ditulis berdasarkan kedipan mata kiri bauby yang menghabiskan waktu sepuluh bulan (empat jam sehari).\n",
       "r             keseluruhan buku ditulis berdasarkan kedipan mata kiri bauby yang menghabiskan waktu sepuluh bulan .                  \n",
       "Name: 2375, dtype: object"
      ]
     },
     "metadata": {},
     "output_type": "display_data"
    },
    {
     "data": {
      "text/plain": [
       "kalimat_id    1002318                                                                                                                                                                                                                                                                                                                                                                                                                                                                                                                                      \n",
       "kata          mengejar                                                                                                                                                                                                                                                                                                                                                                                                                                                                                                                                     \n",
       "sense         2802                                                                                                                                                                                                                                                                                                                                                                                                                                                                                                                                         \n",
       "kalimat       rencana itu dikritik oleh beberapa militer polandia dan penasihat barat, tetapi didukung oleh para politisi yang takut akan efek meninggalkan bagian yang signifikan dari populasi terhadap musuh tanpa perlawanan, dan yang semakin berkecil hati untuk meninggalkan wilayah-wilayah polandia sebagai sekutu (perancis dan inggris) yang tidak menjamin perbatasan polandia dan mungkin juga memutuskan untuk mengizinkan jerman untuk mengambil koridor polandia yang mereka minta sebagai syarat perdamaian (mengejar kebijakan peredaan).\n",
       "r             rencana itu dikritik oleh beberapa militer polandia dan penasihat barat, tetapi didukung oleh para politisi yang takut akan efek meninggalkan bagian yang signifikan dari populasi terhadap musuh tanpa perlawanan, dan yang semakin berkecil hati untuk meninggalkan wilayah-wilayah polandia sebagai sekutu  yang tidak menjamin perbatasan polandia dan mungkin juga memutuskan untuk mengizinkan jerman untuk mengambil koridor polandia yang mereka minta sebagai syarat perdamaian .                                                   \n",
       "Name: 2684, dtype: object"
      ]
     },
     "metadata": {},
     "output_type": "display_data"
    },
    {
     "data": {
      "text/plain": [
       "kalimat_id    1035093                                                                                                                              \n",
       "kata          nilai                                                                                                                                \n",
       "sense         1504                                                                                                                                 \n",
       "kalimat       kedua senyawa tersebut memiliki keasaman sekitar seribu kali lebih kuat (memiliki nilai \"h\" yang lebih negatif) daripada asam sulfat.\n",
       "r             kedua senyawa tersebut memiliki keasaman sekitar seribu kali lebih kuat  daripada asam sulfat.                                       \n",
       "Name: 2711, dtype: object"
      ]
     },
     "metadata": {},
     "output_type": "display_data"
    },
    {
     "data": {
      "text/plain": [
       "kalimat_id    1026784                                                                                                                                                                                                                                                                                                                                                                                                                                                                                      \n",
       "kata          nilai                                                                                                                                                                                                                                                                                                                                                                                                                                                                                        \n",
       "sense         1503                                                                                                                                                                                                                                                                                                                                                                                                                                                                                         \n",
       "kalimat       cara mudah untuk mengukur teori korelasi ini adalah dengan mengukur tingkat depresi dan harga diri pada orang yang bersangkutan dan melihat apakah [[nilai]] yang muncul berkolerasi atau berhubungan satu dengan yang lain, namun perlu diingat bahwa korelasi antar dua variabel tidak berarti bahwa satu variabel adalah penyebab munculnya variabel lain akan tetapi, korelasi yang muncul hanya menggambarkan bahwa kedua variabel memiliki hubungan satu sama lain dalam pola tertentu.\n",
       "r             cara mudah untuk mengukur teori korelasi ini adalah dengan mengukur tingkat depresi dan harga diri pada orang yang bersangkutan dan melihat apakah ] yang muncul berkolerasi atau berhubungan satu dengan yang lain, namun perlu diingat bahwa korelasi antar dua variabel tidak berarti bahwa satu variabel adalah penyebab munculnya variabel lain akan tetapi, korelasi yang muncul hanya menggambarkan bahwa kedua variabel memiliki hubungan satu sama lain dalam pola tertentu.        \n",
       "Name: 2717, dtype: object"
      ]
     },
     "metadata": {},
     "output_type": "display_data"
    },
    {
     "data": {
      "text/plain": [
       "kalimat_id    338078                                                                                                                               \n",
       "kata          coklat                                                                                                                               \n",
       "sense         4703                                                                                                                                 \n",
       "kalimat       di indonesia, ulat grayak utama adalah \"spodoptera exigua\" (larva berwarna coklat kehijauan) dan \"s. litura\" (larva berwarna coklat).\n",
       "r             di indonesia, ulat grayak utama adalah \"spodoptera exigua\"  dan \"s. litura\" .                                                        \n",
       "Name: 2773, dtype: object"
      ]
     },
     "metadata": {},
     "output_type": "display_data"
    },
    {
     "data": {
      "text/plain": [
       "kalimat_id    1010434                                                                                                                                                                    \n",
       "kata          mengikat                                                                                                                                                                   \n",
       "sense         2205?                                                                                                                                                                      \n",
       "kalimat       pilihan alternatif yang populer adalah pyside (qt mengikat dengan dukungan resmi dan  lebih liberal ), pygtk, berbasis wxpython, dan tkinter (yang dibundel dengan python).\n",
       "r             pilihan alternatif yang populer adalah pyside , pygtk, berbasis wxpython, dan tkinter .                                                                                    \n",
       "Name: 2819, dtype: object"
      ]
     },
     "metadata": {},
     "output_type": "display_data"
    },
    {
     "data": {
      "text/plain": [
       "kalimat_id    1101475                                                                                                                       \n",
       "kata          tinggi                                                                                                                        \n",
       "sense         5101                                                                                                                          \n",
       "kalimat       dawai-dawainya biasanya ditala pada nada (dari tinggi ke rendah) a, d, g, dan c (a3, d3, g2, dan c2 dalam notasi tala ilmiah).\n",
       "r             dawai-dawainya biasanya ditala pada nada  a, d, g, dan c .                                                                    \n",
       "Name: 2851, dtype: object"
      ]
     },
     "metadata": {},
     "output_type": "display_data"
    },
    {
     "data": {
      "text/plain": [
       "kalimat_id    917609                                                                                                                                                          \n",
       "kata          kulit                                                                                                                                                           \n",
       "sense         1701                                                                                                                                                            \n",
       "kalimat       sebuah pengibaratan latin juga menyebut, \"pelle sub agnina latitat mens saepe lupina\" (di bawah sebuah kulit domba seringkali tersembunyi pikiran keserigalaan).\n",
       "r             sebuah pengibaratan latin juga menyebut, \"pelle sub agnina latitat mens saepe lupina\" .                                                                         \n",
       "Name: 2954, dtype: object"
      ]
     },
     "metadata": {},
     "output_type": "display_data"
    },
    {
     "data": {
      "text/plain": [
       "kalimat_id    915352                                                                                                                                         \n",
       "kata          kulit                                                                                                                                          \n",
       "sense         1701                                                                                                                                           \n",
       "kalimat       mereka mencurigai siapa saja yang menyerupai orang eropa (semua orang kulit putih dianggap pro-belanda) atau yang mendukung penjajahan kembali.\n",
       "r             mereka mencurigai siapa saja yang menyerupai orang eropa  atau yang mendukung penjajahan kembali.                                              \n",
       "Name: 2959, dtype: object"
      ]
     },
     "metadata": {},
     "output_type": "display_data"
    },
    {
     "data": {
      "text/plain": [
       "kalimat_id    67953                                                                                                                                                                                                                       \n",
       "kata          badan                                                                                                                                                                                                                       \n",
       "sense         1402                                                                                                                                                                                                                        \n",
       "kalimat       sebuah girokompas adalah jenis kompas non-magnetik yang didasarkan pada disk cepat berputar dan rotasi bumi (atau badan planet lain jika digunakan di tempat lain di alam semesta) secara otomatis menemukan arah geografis.\n",
       "r             sebuah girokompas adalah jenis kompas non-magnetik yang didasarkan pada disk cepat berputar dan rotasi bumi  secara otomatis menemukan arah geografis.                                                                      \n",
       "Name: 3028, dtype: object"
      ]
     },
     "metadata": {},
     "output_type": "display_data"
    },
    {
     "data": {
      "text/plain": [
       "kalimat_id    826808                                                                                    \n",
       "kata          jam                                                                                       \n",
       "sense         0901                                                                                      \n",
       "kalimat       provinsi tetangga yang (dari searah jarum jam barat) sisaket, yasothon, dan amnat charoen.\n",
       "r             provinsi tetangga yang  sisaket, yasothon, dan amnat charoen.                             \n",
       "Name: 3056, dtype: object"
      ]
     },
     "metadata": {},
     "output_type": "display_data"
    },
    {
     "data": {
      "text/plain": [
       "kalimat_id    985369                                                                                                                                                                                                                         \n",
       "kata          menerima                                                                                                                                                                                                                       \n",
       "sense         3101                                                                                                                                                                                                                           \n",
       "kalimat       \"kale bolayya\" terdiri atas tiga bagian yang masing-masing dipisahkan oleh \"pappamuntulang\", yaitu \"latta\" \"riolo\" (tempat tamu), \"latta tangnga\" (tempat tuan rumah menerima tamu) dan \"tala-tala\" (tempat tidur kaum wanita).\n",
       "r             \"kale bolayya\" terdiri atas tiga bagian yang masing-masing dipisahkan oleh \"pappamuntulang\", yaitu \"latta\" \"riolo\" , \"latta tangnga\"  dan \"tala-tala\" .                                                                        \n",
       "Name: 3132, dtype: object"
      ]
     },
     "metadata": {},
     "output_type": "display_data"
    },
    {
     "data": {
      "text/plain": [
       "kalimat_id    1042435                                                                                                                                                                                                                                                                                                                                                                                                                  \n",
       "kata          panas                                                                                                                                                                                                                                                                                                                                                                                                                    \n",
       "sense         4903                                                                                                                                                                                                                                                                                                                                                                                                                     \n",
       "kalimat       judul asli direncanakan dari proyek ini adalah ketidakseimbangan, dan kemudian berganti nama menjadi ultra q (terinspirasi oleh \"oba-q\", julukan karakter judul kemudian-populer serial anime obake no q-taro, dan \"ultra c\", istilah populer yang digunakan untuk senam perempuan selama olimpiade musim panas 1964, di mana seorang pesenam rusia menciptakan sebuah manuver yang sangat sulit yang disebut \"ultra c\").\n",
       "r             judul asli direncanakan dari proyek ini adalah ketidakseimbangan, dan kemudian berganti nama menjadi ultra q .                                                                                                                                                                                                                                                                                                           \n",
       "Name: 3158, dtype: object"
      ]
     },
     "metadata": {},
     "output_type": "display_data"
    },
    {
     "data": {
      "text/plain": [
       "kalimat_id    1053830                                                                                                                                                                                                                                                                                                                                                  \n",
       "kata          sarung                                                                                                                                                                                                                                                                                                                                                   \n",
       "sense         1201                                                                                                                                                                                                                                                                                                                                                     \n",
       "kalimat       sebagian besar perusahaan-perusahaan ini menggunakan sebuah format \"datang dan menyetir\" dan menyediakan pelanggan dengan semua perlengkapan keamanan (helm, sarung tangan dan pakaian sopir) dan memungkinkan mereka untuk datang setiap waktu untuk balapan dengan harga terjangkau, tanpa kerumitan harus memiliki peralatan sendiri dan perlengkapan.\n",
       "r             sebagian besar perusahaan-perusahaan ini menggunakan sebuah format \"datang dan menyetir\" dan menyediakan pelanggan dengan semua perlengkapan keamanan  dan memungkinkan mereka untuk datang setiap waktu untuk balapan dengan harga terjangkau, tanpa kerumitan harus memiliki peralatan sendiri dan perlengkapan.                                       \n",
       "Name: 3282, dtype: object"
      ]
     },
     "metadata": {},
     "output_type": "display_data"
    },
    {
     "data": {
      "text/plain": [
       "kalimat_id    1067177                                                                                                                                                                                                                                                                                                                                                                                                                                                                                                                                                                                                                                                                                                                                                                                                                                                                                                                                                                                                                                                                                                                                                                                  \n",
       "kata          tengah                                                                                                                                                                                                                                                                                                                                                                                                                                                                                                                                                                                                                                                                                                                                                                                                                                                                                                                                                                                                                                                                                                                                                                                   \n",
       "sense         430b                                                                                                                                                                                                                                                                                                                                                                                                                                                                                                                                                                                                                                                                                                                                                                                                                                                                                                                                                                                                                                                                                                                                                                                     \n",
       "kalimat       ada 67 mengangkat karang pulau di grup aldabra, barat dari grup farquhar: aldabra atoll (terdiri dari 46 pulau-grande terre, picard, polymnie, malabar, île michel, île esprit, île aux moustiques, ilot parc, ilot emile, ilot yangue, ilot magnan, île lanier, champignon des os, euphrate, grand mentor, grand ilot, gros ilot gionnet, gros ilot wijen, heron rock, sembunyikan island, île aux aigrettes, île aux cedres, iles chalands, île fangame, île heron , île michel, île squacco, île sylvestre, île verte, ilot déder, ilot du sud, ilot du milieu, ilot du nord, ilot dubois, ilot macoa, ilot marquoix, ilots niçois, ilot salade, tengah row island, orang bodoh rock, utara row island, petit mentor, petit mentor endans, petits ilots, pink rock dan tabel ronde), asumsi island, astove dan atol cosmoledo (terdiri dari 19 pulau-menai, île du nord (barat utara), île nord-est (timur utara ), île du trou, goëlettes, grand polyte, petit polyte, grand île (wizard), pagode, île du sud-ouest (selatan), île aux moustiques, île baleine, île aux chauve-souris, île aux kera, île aux tikus, île du nord-ouest, île observasi, île sud-est dan ilot la croix).\n",
       "r             ada 67 mengangkat karang pulau di grup aldabra, barat dari grup farquhar: aldabra atoll , asumsi island, astove dan atol cosmoledo , île nord-est , île du trou, goëlettes, grand polyte, petit polyte, grand île , pagode, île du sud-ouest , île aux moustiques, île baleine, île aux chauve-souris, île aux kera, île aux tikus, île du nord-ouest, île observasi, île sud-est dan ilot la croix).                                                                                                                                                                                                                                                                                                                                                                                                                                                                                                                                                                                                                                                                                                                                                                                    \n",
       "Name: 3292, dtype: object"
      ]
     },
     "metadata": {},
     "output_type": "display_data"
    },
    {
     "data": {
      "text/plain": [
       "kalimat_id    885820                                                                                                                                                          \n",
       "kata          kali                                                                                                                                                            \n",
       "sense         1101                                                                                                                                                            \n",
       "kalimat       senapan serbu ak-107 ini dilengkapi dengan fitur \"semi-automatic\", \"fully-automatic\" dan \"three round burst\" (melontarkan tiga peluru dalam satu kali tembakan).\n",
       "r             senapan serbu ak-107 ini dilengkapi dengan fitur \"semi-automatic\", \"fully-automatic\" dan \"three round burst\" .                                                  \n",
       "Name: 3332, dtype: object"
      ]
     },
     "metadata": {},
     "output_type": "display_data"
    },
    {
     "data": {
      "text/plain": [
       "kalimat_id    855933                                                                                                                                                                                                                                                                                                                                                                                         \n",
       "kata          kali                                                                                                                                                                                                                                                                                                                                                                                           \n",
       "sense         110a                                                                                                                                                                                                                                                                                                                                                                                           \n",
       "kalimat       tambahan dana pada tahun 2012 diusulkan untuk paket pembangunan fo (fo kereta api, jalan pendekat), paket pembangunan ic solo (struktur bawah ic solo cable stayed, jalan akses, jalan pendekat dan pile slab), paket pembangunan jembatan sungai (kali pepe 1, kali pepe 3, janpen, akses ic), paket pembangunan jalan dan op tol solo - kertosono (1,9 km jalan tol, overpass dan underpass).\n",
       "r             tambahan dana pada tahun 2012 diusulkan untuk paket pembangunan fo , paket pembangunan ic solo , paket pembangunan jembatan sungai , paket pembangunan jalan dan op tol solo - kertosono .                                                                                                                                                                                                     \n",
       "Name: 3341, dtype: object"
      ]
     },
     "metadata": {},
     "output_type": "display_data"
    },
    {
     "data": {
      "text/plain": [
       "kalimat_id    1008431                                                                                                                                                                                                    \n",
       "kata          mengeluarkan                                                                                                                                                                                               \n",
       "sense         2902                                                                                                                                                                                                       \n",
       "kalimat       umumnya terdapat pilihan attack (serang), rune (menggunakan rune untuk mengeluarkan magic/sihir), bribe (menyogok), run (melarikan diri), stats (melihat status), unite/combo (melakukan serangan bersama).\n",
       "r             umumnya terdapat pilihan attack , rune , bribe , run , stats , unite/combo .                                                                                                                               \n",
       "Name: 3417, dtype: object"
      ]
     },
     "metadata": {},
     "output_type": "display_data"
    },
    {
     "data": {
      "text/plain": [
       "kalimat_id    984046                                                                                                                                                                                                                                                     \n",
       "kata          menerima                                                                                                                                                                                                                                                   \n",
       "sense         3103                                                                                                                                                                                                                                                       \n",
       "kalimat       namun, dalam surat yakobus, adalah mungkin bahwa \"pembenaran\" mengacu pada bagaimana orang-orang percaya harus berperilaku selayaknya orang-orang percaya, bukan bagaimana seorang yang tidak percaya menjadi seorang percaya (yakni menerima keselamatan).\n",
       "r             namun, dalam surat yakobus, adalah mungkin bahwa \"pembenaran\" mengacu pada bagaimana orang-orang percaya harus berperilaku selayaknya orang-orang percaya, bukan bagaimana seorang yang tidak percaya menjadi seorang percaya .                            \n",
       "Name: 3545, dtype: object"
      ]
     },
     "metadata": {},
     "output_type": "display_data"
    },
    {
     "data": {
      "text/plain": [
       "kalimat_id    1049666                                                                                                                                                                                     \n",
       "kata          pembagian                                                                                                                                                                                   \n",
       "sense         3701                                                                                                                                                                                        \n",
       "kalimat       kota-kota kecil diklasifikasikan sebagai si (\"kota kecil\") dan berada di bawah kewenangan provinsi, pada tingkat yang sama seperti distrik (lihat pembagian administratif di korea selatan).\n",
       "r             kota-kota kecil diklasifikasikan sebagai si  dan berada di bawah kewenangan provinsi, pada tingkat yang sama seperti distrik .                                                              \n",
       "Name: 3556, dtype: object"
      ]
     },
     "metadata": {},
     "output_type": "display_data"
    },
    {
     "data": {
      "text/plain": [
       "kalimat_id    828987                                                                                                            \n",
       "kata          jam                                                                                                               \n",
       "sense         0902                                                                                                              \n",
       "kalimat       balapan ini dimenangi oleh carlos sastre dari spanyol yang mewakili team csc saxo bank (87 jam 52 menit 52 detik).\n",
       "r             balapan ini dimenangi oleh carlos sastre dari spanyol yang mewakili team csc saxo bank .                          \n",
       "Name: 3647, dtype: object"
      ]
     },
     "metadata": {},
     "output_type": "display_data"
    },
    {
     "data": {
      "text/plain": [
       "kalimat_id    845781                                                                                                                                         \n",
       "kata          kaki                                                                                                                                           \n",
       "sense         0204                                                                                                                                           \n",
       "kalimat       kapal 4.788 meter persegi (15708,66 kaki persegi), dengan perpindahan dari 25.840 metrik ton, dirancang untuk menerobos es hingga tebal 5 meter\n",
       "r             kapal 4.788 meter persegi , dengan perpindahan dari 25.840 metrik ton, dirancang untuk menerobos es hingga tebal 5 meter                       \n",
       "Name: 3709, dtype: object"
      ]
     },
     "metadata": {},
     "output_type": "display_data"
    },
    {
     "data": {
      "text/plain": [
       "kalimat_id    156930                                                                                                                                                                                                \n",
       "kata          besar                                                                                                                                                                                                 \n",
       "sense         5402                                                                                                                                                                                                  \n",
       "kalimat       namun, seni spongebob diklaim tidak ada elemen yang sangat penting (hidung besar yang mirip dengan hidung squidward), namun kritikus seni kemudian menunjukkan bahwa hidung adalah satu-satunya cacat.\n",
       "r             namun, seni spongebob diklaim tidak ada elemen yang sangat penting , namun kritikus seni kemudian menunjukkan bahwa hidung adalah satu-satunya cacat.                                                 \n",
       "Name: 3756, dtype: object"
      ]
     },
     "metadata": {},
     "output_type": "display_data"
    },
    {
     "data": {
      "text/plain": [
       "kalimat_id    216705                                                                   \n",
       "kata          bidang                                                                   \n",
       "sense         180d                                                                     \n",
       "kalimat       (koordinator bidang pelayanan masyarakat), soekotjo soeparto, s.h., l.lm.\n",
       "r             , soekotjo soeparto, s.h., l.lm.                                         \n",
       "Name: 3765, dtype: object"
      ]
     },
     "metadata": {},
     "output_type": "display_data"
    },
    {
     "data": {
      "text/plain": [
       "kalimat_id    336354                                                                                                                                          \n",
       "kata          cerah                                                                                                                                           \n",
       "sense         4801                                                                                                                                            \n",
       "kalimat       dan bertiktak (bintik-bintik) dan dengan tingkatan pola bulu, yaitu warna dasar, lebih pucat dari pola, dan pola (lebih cerah dari warna dasar).\n",
       "r             dan bertiktak  dan dengan tingkatan pola bulu, yaitu warna dasar, lebih pucat dari pola, dan pola .                                             \n",
       "Name: 3797, dtype: object"
      ]
     },
     "metadata": {},
     "output_type": "display_data"
    },
    {
     "data": {
      "text/plain": [
       "kalimat_id    336734                                                                                                                                                                                             \n",
       "kata          cerah                                                                                                                                                                                              \n",
       "sense         4801                                                                                                                                                                                               \n",
       "kalimat       punggung berwarna zaitun atau cokelat-zaitun, dengan belang-belang samar terbentuk dari bintik-bintik hitam (kadang-kadang dengan warna cerah atau keputihan di tengahnya) yang berleret melintang.\n",
       "r             punggung berwarna zaitun atau cokelat-zaitun, dengan belang-belang samar terbentuk dari bintik-bintik hitam  yang berleret melintang.                                                              \n",
       "Name: 3803, dtype: object"
      ]
     },
     "metadata": {},
     "output_type": "display_data"
    },
    {
     "data": {
      "text/plain": [
       "kalimat_id    1053663                                                                                                                                                                                                           \n",
       "kata          sarung                                                                                                                                                                                                            \n",
       "sense         1202                                                                                                                                                                                                              \n",
       "kalimat       sementara itu mandi dengan sepenuhnya telanjang bulat juga kurang lazim, karena orang-orang biasanya tetap mengenakan kain jarik (kain batik atau sarung) untuk melilit tubuh dan menutupi kemaluannya saat mandi.\n",
       "r             sementara itu mandi dengan sepenuhnya telanjang bulat juga kurang lazim, karena orang-orang biasanya tetap mengenakan kain jarik  untuk melilit tubuh dan menutupi kemaluannya saat mandi.                        \n",
       "Name: 3884, dtype: object"
      ]
     },
     "metadata": {},
     "output_type": "display_data"
    },
    {
     "data": {
      "text/plain": [
       "kalimat_id    827771                        \n",
       "kata          jam                           \n",
       "sense         0903                          \n",
       "kalimat       pagi (dari jam 08:00 - 11:00).\n",
       "r             pagi .                        \n",
       "Name: 3928, dtype: object"
      ]
     },
     "metadata": {},
     "output_type": "display_data"
    },
    {
     "data": {
      "text/plain": [
       "kalimat_id    1010844                                                                                                            \n",
       "kata          mengikat                                                                                                           \n",
       "sense         2301                                                                                                               \n",
       "kalimat       dia justru merusak parasut lain yang berfungsi (kemungkinan kainnya digunakan untuk mengikat tas uang ke tubuhnya.)\n",
       "r             dia justru merusak parasut lain yang berfungsi                                                                     \n",
       "Name: 4010, dtype: object"
      ]
     },
     "metadata": {},
     "output_type": "display_data"
    },
    {
     "data": {
      "text/plain": [
       "kalimat_id    1010935                                                                                                                                                                                                                                                                                                                                                                                                                                                      \n",
       "kata          mengikat                                                                                                                                                                                                                                                                                                                                                                                                                                                     \n",
       "sense         2303                                                                                                                                                                                                                                                                                                                                                                                                                                                         \n",
       "kalimat       pbb saat ini terdiri dari lima organ utama, yaitu: majelis umum (dewan musyawarah utama); dewan keamanan (dewan yang membuat beberapa resolusi mengikat mengenai perdamaian, dan keamanan); dewan ekonomi dan sosial (ecosoc) (dewan yang mendorong kerjasama dan pembangunan ekonomi sosial internasional); sekretariat (yang berfungsi menyediakan studi, informasi, dan fasilitas yang dibutuhkan pbb); dan mahkamah internasional (badan yudisial utama).\n",
       "r             pbb saat ini terdiri dari lima organ utama, yaitu: majelis umum ; dewan keamanan ; dewan ekonomi dan sosial  ; sekretariat ; dan mahkamah internasional .                                                                                                                                                                                                                                                                                                    \n",
       "Name: 4024, dtype: object"
      ]
     },
     "metadata": {},
     "output_type": "display_data"
    },
    {
     "data": {
      "text/plain": [
       "kalimat_id    843352                                                                                                            \n",
       "kata          kaki                                                                                                              \n",
       "sense         0204                                                                                                              \n",
       "kalimat       titik terendah adalah di polder mastenbroek dekat kampen pada ketinggian 2 meter (6 kaki) di bawah permukaan laut.\n",
       "r             titik terendah adalah di polder mastenbroek dekat kampen pada ketinggian 2 meter  di bawah permukaan laut.        \n",
       "Name: 4106, dtype: object"
      ]
     },
     "metadata": {},
     "output_type": "display_data"
    },
    {
     "data": {
      "text/plain": [
       "kalimat_id    848501                         \n",
       "kata          kaki                           \n",
       "sense         0204                           \n",
       "kalimat       tingginya 256 meter (840 kaki).\n",
       "r             tingginya 256 meter .          \n",
       "Name: 4115, dtype: object"
      ]
     },
     "metadata": {},
     "output_type": "display_data"
    },
    {
     "data": {
      "text/plain": [
       "kalimat_id    849576                                                                                                                                                                                                          \n",
       "kata          kaki                                                                                                                                                                                                            \n",
       "sense         0203                                                                                                                                                                                                            \n",
       "kalimat       pintu gerbang utama terletak di tengah jalan bliss, medical gate dekat rumah sakit universitas amerika, sea gate (di kaki bukit), peripheral gate dekat gedung asrama pria, dan pintu kecil dekat asrama wanita.\n",
       "r             pintu gerbang utama terletak di tengah jalan bliss, medical gate dekat rumah sakit universitas amerika, sea gate , peripheral gate dekat gedung asrama pria, dan pintu kecil dekat asrama wanita.               \n",
       "Name: 4116, dtype: object"
      ]
     },
     "metadata": {},
     "output_type": "display_data"
    },
    {
     "data": {
      "text/plain": [
       "kalimat_id    849873                                                                                                                                                   \n",
       "kata          kaki                                                                                                                                                     \n",
       "sense         0204                                                                                                                                                     \n",
       "kalimat       dengan rentang 317 meter (1.040 kaki), lengkungan baja stadion wembley adalah lengkungan baja struktur atap dengan bentangan tunggal terpanjang di dunia.\n",
       "r             dengan rentang 317 meter , lengkungan baja stadion wembley adalah lengkungan baja struktur atap dengan bentangan tunggal terpanjang di dunia.            \n",
       "Name: 4126, dtype: object"
      ]
     },
     "metadata": {},
     "output_type": "display_data"
    },
    {
     "data": {
      "text/plain": [
       "kalimat_id    943682                                                                                                                                                                                                                                                                                                                           \n",
       "kata          mata                                                                                                                                                                                                                                                                                                                             \n",
       "sense         100d                                                                                                                                                                                                                                                                                                                             \n",
       "kalimat       bukan hanya masalah agama saja mereka perhatikan, tetapi masalah berpakaian, salafy sangat suka mengikuti gaya berpakaian seperti zaman salaf as-shalih seperti memanjangkan jenggot, memakai gamis bagi laki-laki atau memaki celana menggantung (tidak melebihi mata kaki), dan juga memakai cadar bagi beberapa wanita salafy.\n",
       "r             bukan hanya masalah agama saja mereka perhatikan, tetapi masalah berpakaian, salafy sangat suka mengikuti gaya berpakaian seperti zaman salaf as-shalih seperti memanjangkan jenggot, memakai gamis bagi laki-laki atau memaki celana menggantung , dan juga memakai cadar bagi beberapa wanita salafy.                          \n",
       "Name: 4297, dtype: object"
      ]
     },
     "metadata": {},
     "output_type": "display_data"
    },
    {
     "data": {
      "text/plain": [
       "kalimat_id    25627                                                                                                                                                                                                                                                                                                                                                         \n",
       "kata          atas                                                                                                                                                                                                                                                                                                                                                          \n",
       "sense         4402                                                                                                                                                                                                                                                                                                                                                          \n",
       "kalimat       ciri-ciri lain yang membedakan ritus romawi dari ritus-ritus gereja-gereja timur adalah genufleksi (gerakan menghormat dengan cara mencondongkan tubuh bagian atas ke depan sambil berdiri) yang sering, berlutut dalam waktu yang lama, dan kedua telapak tangan disatukan, seperti kebiasaan orang-orang asia timur dan asia selatan bilamana sedang berdoa.\n",
       "r             ciri-ciri lain yang membedakan ritus romawi dari ritus-ritus gereja-gereja timur adalah genufleksi  yang sering, berlutut dalam waktu yang lama, dan kedua telapak tangan disatukan, seperti kebiasaan orang-orang asia timur dan asia selatan bilamana sedang berdoa.                                                                                        \n",
       "Name: 4347, dtype: object"
      ]
     },
     "metadata": {},
     "output_type": "display_data"
    },
    {
     "data": {
      "text/plain": [
       "kalimat_id    302949                                                                                                                                                                                                                         \n",
       "kata          bulan                                                                                                                                                                                                                          \n",
       "sense         0803                                                                                                                                                                                                                           \n",
       "kalimat       fionn meninggalkan penyair dan menghadiri festival samhain (hari pertama bulan november, dirayakan oleh celtic kuno sebagai festival menandai awal musim dingindi) di tara, tempat dimana kursi raja tertinggi irlandia berada.\n",
       "r             fionn meninggalkan penyair dan menghadiri festival samhain  di tara, tempat dimana kursi raja tertinggi irlandia berada.                                                                                                       \n",
       "Name: 4386, dtype: object"
      ]
     },
     "metadata": {},
     "output_type": "display_data"
    },
    {
     "data": {
      "text/plain": [
       "kalimat_id    1009753                                                                                                                                    \n",
       "kata          mengikat                                                                                                                                   \n",
       "sense         2204                                                                                                                                       \n",
       "kalimat       kapang tempe dapat menghasilkan enzim fitase yang akan menguraikan asam fitat (yang mengikat beberapa mineral) menjadi fosfor dan inositol.\n",
       "r             kapang tempe dapat menghasilkan enzim fitase yang akan menguraikan asam fitat  menjadi fosfor dan inositol.                                \n",
       "Name: 4457, dtype: object"
      ]
     },
     "metadata": {},
     "output_type": "display_data"
    },
    {
     "data": {
      "text/plain": [
       "kalimat_id    125699                                                                                                                                                                                                                                                                                                   \n",
       "kata          berat                                                                                                                                                                                                                                                                                                    \n",
       "sense         5202                                                                                                                                                                                                                                                                                                     \n",
       "kalimat       22% pria berhasil mewujudkan resolusi mereka saat mereka menenetapkan target (misalnya bertekad menurunkan berat badan satu pon dalam seminggu, bukannya hanya \"menurunkan berat badan\" saja), sedangkan 10% wanita berhasil mewujudkan resolusi mereka jika mendapat dukungan dari orang-orang terdekat.\n",
       "r             22% pria berhasil mewujudkan resolusi mereka saat mereka menenetapkan target , sedangkan 10% wanita berhasil mewujudkan resolusi mereka jika mendapat dukungan dari orang-orang terdekat.                                                                                                                \n",
       "Name: 4515, dtype: object"
      ]
     },
     "metadata": {},
     "output_type": "display_data"
    },
    {
     "data": {
      "text/plain": [
       "kalimat_id    810138                                                                                                                                                                       \n",
       "kata          jalan                                                                                                                                                                        \n",
       "sense         190b                                                                                                                                                                         \n",
       "kalimat       bersama dengan suaminya ini, aminah mendirikan meisje school yang kemudian menjadi sekolah kepandaian putri (skp) yang berada di yacob steg (sekarang bernama jalan mutiara).\n",
       "r             bersama dengan suaminya ini, aminah mendirikan meisje school yang kemudian menjadi sekolah kepandaian putri  yang berada di yacob steg .                                     \n",
       "Name: 4686, dtype: object"
      ]
     },
     "metadata": {},
     "output_type": "display_data"
    },
    {
     "data": {
      "text/plain": [
       "kalimat_id    130685                                                                                                \n",
       "kata          berat                                                                                                 \n",
       "sense         5206                                                                                                  \n",
       "kalimat       (wolfram, sebuah unsur periode 6, adalah satu-satunya unsur lebih berat yang memiliki peran biologis).\n",
       "r             .                                                                                                     \n",
       "Name: 4794, dtype: object"
      ]
     },
     "metadata": {},
     "output_type": "display_data"
    },
    {
     "data": {
      "text/plain": [
       "kalimat_id    802459                                                                                                                                      \n",
       "kata          harapan                                                                                                                                     \n",
       "sense         350d                                                                                                                                        \n",
       "kalimat       lagu ini ditulis oleh cyrus (dikreditkan sebagai takdir harapan cyrus), antonina armato, dan tim james dan diproduksi oleh armato dan james.\n",
       "r             lagu ini ditulis oleh cyrus , antonina armato, dan tim james dan diproduksi oleh armato dan james.                                          \n",
       "Name: 4841, dtype: object"
      ]
     },
     "metadata": {},
     "output_type": "display_data"
    },
    {
     "data": {
      "text/plain": [
       "kalimat_id    844696                                                                                                                                                                                                   \n",
       "kata          kaki                                                                                                                                                                                                     \n",
       "sense         0201                                                                                                                                                                                                     \n",
       "kalimat       hidangan ini terdiri atas mi kuning yang disajikan dalam kuah kaldu sapi kental, irisan kikil (tendon kaki sapi), taoge, bakso, jeruk nipis, dan ditaburi irisan seledri, daun bawang, dan bawang goreng.\n",
       "r             hidangan ini terdiri atas mi kuning yang disajikan dalam kuah kaldu sapi kental, irisan kikil , taoge, bakso, jeruk nipis, dan ditaburi irisan seledri, daun bawang, dan bawang goreng.                  \n",
       "Name: 4857, dtype: object"
      ]
     },
     "metadata": {},
     "output_type": "display_data"
    },
    {
     "data": {
      "text/plain": [
       "kalimat_id    845152                                                                                                                                                                                                    \n",
       "kata          kaki                                                                                                                                                                                                      \n",
       "sense         0201                                                                                                                                                                                                      \n",
       "kalimat       terdapat tiga bentuk hiperhidrosis yaitu hiperhidrosis yang diinduksi oleh emosional (di mana hal itu mempengaruhi telapak tangan, telapak kaki, dan ketiak), hiperhidrosis lokal, dan hiperhidrosis umum.\n",
       "r             terdapat tiga bentuk hiperhidrosis yaitu hiperhidrosis yang diinduksi oleh emosional , hiperhidrosis lokal, dan hiperhidrosis umum.                                                                       \n",
       "Name: 4860, dtype: object"
      ]
     },
     "metadata": {},
     "output_type": "display_data"
    },
    {
     "data": {
      "text/plain": [
       "kalimat_id    848473                                                                                                                                             \n",
       "kata          kaki                                                                                                                                               \n",
       "sense         0204                                                                                                                                               \n",
       "kalimat       marina 101 merupakan sebuah pencakar langit supertinggi setinggi 412 m (1.352 kaki) dengan 101 tingkat dalam pembangunan di dubai, uni emirat arab.\n",
       "r             marina 101 merupakan sebuah pencakar langit supertinggi setinggi 412 m  dengan 101 tingkat dalam pembangunan di dubai, uni emirat arab.            \n",
       "Name: 4870, dtype: object"
      ]
     },
     "metadata": {},
     "output_type": "display_data"
    },
    {
     "data": {
      "text/plain": [
       "kalimat_id    845680                                                                                                                                                                                    \n",
       "kata          kaki                                                                                                                                                                                      \n",
       "sense         0204                                                                                                                                                                                      \n",
       "kalimat       nasa infrared telescope facility (nasa irtf) adalah teleskop dioptimalkan 3 meter (9,8 kaki) untuk digunakan dalam astronomi inframerah dan terletak di mauna kea observatorium di hawaii.\n",
       "r             nasa infrared telescope facility  adalah teleskop dioptimalkan 3 meter  untuk digunakan dalam astronomi inframerah dan terletak di mauna kea observatorium di hawaii.                     \n",
       "Name: 4872, dtype: object"
      ]
     },
     "metadata": {},
     "output_type": "display_data"
    },
    {
     "data": {
      "text/plain": [
       "kalimat_id    1012185                                                                                                                                                                                                                                                                \n",
       "kata          mengisi                                                                                                                                                                                                                                                                \n",
       "sense         3201                                                                                                                                                                                                                                                                   \n",
       "kalimat       dengan memasukkan gashat ini ke dalam slot pada gamer driver (gashat ini bertipe ganda jadi bisa langsung mengisi kedua slot) lalu membuka tuas di depan gamer driver ke sebelah kanan, emu dapat berubah menjadi kamen rider ex-aid level 10/ level x terlebih dahulu.\n",
       "r             dengan memasukkan gashat ini ke dalam slot pada gamer driver  lalu membuka tuas di depan gamer driver ke sebelah kanan, emu dapat berubah menjadi kamen rider ex-aid level 10/ level x terlebih dahulu.                                                                \n",
       "Name: 4888, dtype: object"
      ]
     },
     "metadata": {},
     "output_type": "display_data"
    },
    {
     "data": {
      "text/plain": [
       "kalimat_id    1055251                                                                                                                                                                                                                                                                                                                                        \n",
       "kata          tengah                                                                                                                                                                                                                                                                                                                                         \n",
       "sense         4303                                                                                                                                                                                                                                                                                                                                           \n",
       "kalimat       mutv menawarkan penggemar manchester united wawancara eksklusif dengan pemain dan staf, pertandingan penuh, termasuk seluruh pertandingan liga utama (disiarkan umumnya pada tengah malam pada hari pertandingan dimainkan), permainan tim cadangan dan akademi dan pertandingan sepak bola klasik ditambah berita dan program bertema lainnya.\n",
       "r             mutv menawarkan penggemar manchester united wawancara eksklusif dengan pemain dan staf, pertandingan penuh, termasuk seluruh pertandingan liga utama , permainan tim cadangan dan akademi dan pertandingan sepak bola klasik ditambah berita dan program bertema lainnya.                                                                      \n",
       "Name: 4974, dtype: object"
      ]
     },
     "metadata": {},
     "output_type": "display_data"
    },
    {
     "data": {
      "text/plain": [
       "kalimat_id    897589                                                                                                                                                                                \n",
       "kata          kepala                                                                                                                                                                                \n",
       "sense         0302                                                                                                                                                                                  \n",
       "kalimat       sejarah desa tunggu berangkat dari kisah tiga orang tokoh yang merupakan sesepuh pendiri desa, yaitu sojoyo (anak kepala desa watu pawon), mbah kuryo, dan mbah mengir dari sekar lor.\n",
       "r             sejarah desa tunggu berangkat dari kisah tiga orang tokoh yang merupakan sesepuh pendiri desa, yaitu sojoyo , mbah kuryo, dan mbah mengir dari sekar lor.                             \n",
       "Name: 5088, dtype: object"
      ]
     },
     "metadata": {},
     "output_type": "display_data"
    },
    {
     "data": {
      "text/plain": [
       "kalimat_id    798647                                                                                                                                                                                                                                                                                   \n",
       "kata          halaman                                                                                                                                                                                                                                                                                  \n",
       "sense         0401                                                                                                                                                                                                                                                                                     \n",
       "kalimat       luas wilayah kecamatan welerimencapai 30,29 km2 , yang sebagian besar digunakan sebagai lahan pertanian (tanah sawah dan tanah tegalan) yaitu mencapai 66,4% dan sisanya 33,6% digunakan untuk tambak atau kolam dan pekarangan (lahan untuk bangunan dan halaman sekitar) dan lain-lain.\n",
       "r             luas wilayah kecamatan welerimencapai 30,29 km2 , yang sebagian besar digunakan sebagai lahan pertanian  yaitu mencapai 66,4% dan sisanya 33,6% digunakan untuk tambak atau kolam dan pekarangan  dan lain-lain.                                                                         \n",
       "Name: 5191, dtype: object"
      ]
     },
     "metadata": {},
     "output_type": "display_data"
    },
    {
     "data": {
      "text/plain": [
       "kalimat_id    843663                                                                                                                                                                                                           \n",
       "kata          kaki                                                                                                                                                                                                             \n",
       "sense         0204                                                                                                                                                                                                             \n",
       "kalimat       terowongan yang digali dengan tangan tersebut panjangnya 533 meter (1760 kaki), dan dengan gradien kemiringan 30cm (0.6\\bc) beda ketinggian antara kedua ujungnya, menyalurkan air dari mata air sampai ke kolam.\n",
       "r             terowongan yang digali dengan tangan tersebut panjangnya 533 meter , dan dengan gradien kemiringan 30cm  beda ketinggian antara kedua ujungnya, menyalurkan air dari mata air sampai ke kolam.                   \n",
       "Name: 5240, dtype: object"
      ]
     },
     "metadata": {},
     "output_type": "display_data"
    },
    {
     "data": {
      "text/plain": [
       "kalimat_id    849670                                                                      \n",
       "kata          kaki                                                                        \n",
       "sense         0204                                                                        \n",
       "kalimat       tingginya dari permukaan (mean sea level) hingga kedalaman 200 m (656 kaki).\n",
       "r             tingginya dari permukaan  hingga kedalaman 200 m .                          \n",
       "Name: 5246, dtype: object"
      ]
     },
     "metadata": {},
     "output_type": "display_data"
    },
    {
     "data": {
      "text/plain": [
       "kalimat_id    226035                                                                                                                                              \n",
       "kata          bintang                                                                                                                                             \n",
       "sense         0702                                                                                                                                                \n",
       "kalimat       masing-masing klub boleh memakai maksimal tiga \"marquee player\" (pemain bintang dunia) dan harus membawa kontribusi positif bagi tim yang dibelanya.\n",
       "r             masing-masing klub boleh memakai maksimal tiga \"marquee player\"  dan harus membawa kontribusi positif bagi tim yang dibelanya.                      \n",
       "Name: 5331, dtype: object"
      ]
     },
     "metadata": {},
     "output_type": "display_data"
    },
    {
     "data": {
      "text/plain": [
       "kalimat_id    796885                                                                                                                                                                                                                                                                   \n",
       "kata          halaman                                                                                                                                                                                                                                                                  \n",
       "sense         0402                                                                                                                                                                                                                                                                     \n",
       "kalimat       sakramen minyak suci tampaknya tidak dikenal oleh umat nestorian, meskipun assemani (\"bibliotheca orientalis\", poin 51, halaman 272) berpendapat bahwa berdasarkan buku-buku liturgi nestorian tampaknya dihilangkannya sakramen tersebut adalah sebuah kesalahan modern.\n",
       "r             sakramen minyak suci tampaknya tidak dikenal oleh umat nestorian, meskipun assemani  berpendapat bahwa berdasarkan buku-buku liturgi nestorian tampaknya dihilangkannya sakramen tersebut adalah sebuah kesalahan modern.                                                \n",
       "Name: 5476, dtype: object"
      ]
     },
     "metadata": {},
     "output_type": "display_data"
    },
    {
     "data": {
      "text/plain": [
       "kalimat_id    1020340                                                                                                                                                                                \n",
       "kata          menurunkan                                                                                                                                                                             \n",
       "sense         2102                                                                                                                                                                                   \n",
       "kalimat       misalnya, dari ladang dan sumur minyak oleh kalsium sulfat (yang menurunkan kelarutannya dengan penurunan tekanan) dapat menyebabkan penurunan produktivitas seiring berjalannya waktu.\n",
       "r             misalnya, dari ladang dan sumur minyak oleh kalsium sulfat  dapat menyebabkan penurunan produktivitas seiring berjalannya waktu.                                                       \n",
       "Name: 5525, dtype: object"
      ]
     },
     "metadata": {},
     "output_type": "display_data"
    },
    {
     "data": {
      "text/plain": [
       "kalimat_id    727127                                                                                                                                                               \n",
       "kata          dasar                                                                                                                                                                \n",
       "sense         4504                                                                                                                                                                 \n",
       "kalimat       ketika allah mengetahui perbuatan tersebut ada sebuah tindakan yang dilakukan oleh allah dan hal ini merupakan ethos allah (ethos:sikap dasar dalam berbuat sesuatu).\n",
       "r             ketika allah mengetahui perbuatan tersebut ada sebuah tindakan yang dilakukan oleh allah dan hal ini merupakan ethos allah .                                         \n",
       "Name: 5560, dtype: object"
      ]
     },
     "metadata": {},
     "output_type": "display_data"
    },
    {
     "data": {
      "text/plain": [
       "kalimat_id    285128                                                                                                                                                                                                                                                                                                                                                    \n",
       "kata          buah                                                                                                                                                                                                                                                                                                                                                      \n",
       "sense         0502                                                                                                                                                                                                                                                                                                                                                      \n",
       "kalimat       ruang baca jurusan matematika memiliki sarana pendukung berupa buku teks (3371 judul, 3678 eksemplar), buku referesi (437 judul, 437 eksemplar), jurnal dan majalah (298 judul, 311 eksemplar), laporan penelitian (190 judul, 190 eksemplar), laporan tugas akhir (800 judul, 800 eksemplar), cd room (1 buah dengan cd 40 judul), serta ruangan full ac.\n",
       "r             ruang baca jurusan matematika memiliki sarana pendukung berupa buku teks , buku referesi , jurnal dan majalah , laporan penelitian , laporan tugas akhir , cd room , serta ruangan full ac.                                                                                                                                                               \n",
       "Name: 5582, dtype: object"
      ]
     },
     "metadata": {},
     "output_type": "display_data"
    },
    {
     "data": {
      "text/plain": [
       "kalimat_id    278744                                                                                                                                                                                                                   \n",
       "kata          buah                                                                                                                                                                                                                     \n",
       "sense         050x                                                                                                                                                                                                                     \n",
       "kalimat       tabel berikut menunjukkan daftar permainan akhir yang paling sering terjadi dalam permainan nyata berdasarkan persentase (persentase permainan, bukan persentase permainan akhir; biasanya bidak ikut dengan buah catur).\n",
       "r             tabel berikut menunjukkan daftar permainan akhir yang paling sering terjadi dalam permainan nyata berdasarkan persentase .                                                                                               \n",
       "Name: 5583, dtype: object"
      ]
     },
     "metadata": {},
     "output_type": "display_data"
    },
    {
     "data": {
      "text/plain": [
       "kalimat_id    279871                                                                                                                                                          \n",
       "kata          buah                                                                                                                                                            \n",
       "sense         0501                                                                                                                                                            \n",
       "kalimat       anggur (sari buah yang agak terfermentasi) dari jambu mede dinikmati pada masa panen, dan dapat didistilasi untuk dijadikan minuman berkandungan alkohol tinggi.\n",
       "r             anggur  dari jambu mede dinikmati pada masa panen, dan dapat didistilasi untuk dijadikan minuman berkandungan alkohol tinggi.                                   \n",
       "Name: 5587, dtype: object"
      ]
     },
     "metadata": {},
     "output_type": "display_data"
    },
    {
     "data": {
      "text/plain": [
       "kalimat_id    848566                                                        \n",
       "kata          kaki                                                          \n",
       "sense         0204                                                          \n",
       "kalimat       saat ini gua laili terletak di ketinggian 86 meter (282 kaki).\n",
       "r             saat ini gua laili terletak di ketinggian 86 meter .          \n",
       "Name: 5630, dtype: object"
      ]
     },
     "metadata": {},
     "output_type": "display_data"
    },
    {
     "data": {
      "text/plain": [
       "kalimat_id    848537                                                 \n",
       "kata          kaki                                                   \n",
       "sense         0204                                                   \n",
       "kalimat       menara ini memiliki tinggi seluruhnya 166 m (545 kaki).\n",
       "r             menara ini memiliki tinggi seluruhnya 166 m .          \n",
       "Name: 5643, dtype: object"
      ]
     },
     "metadata": {},
     "output_type": "display_data"
    },
    {
     "data": {
      "text/plain": [
       "kalimat_id    843692                                                                                            \n",
       "kata          kaki                                                                                              \n",
       "sense         0204                                                                                              \n",
       "kalimat       setiap tahun ia menjadi lebih tinggi sekitar 6 meter (20 kaki) dan lebih lebar 12 meter (40 kaki).\n",
       "r             setiap tahun ia menjadi lebih tinggi sekitar 6 meter  dan lebih lebar 12 meter .                  \n",
       "Name: 5645, dtype: object"
      ]
     },
     "metadata": {},
     "output_type": "display_data"
    },
    {
     "data": {
      "text/plain": [
       "kalimat_id    851264                                                                                                                     \n",
       "kata          kaki                                                                                                                       \n",
       "sense         0204                                                                                                                       \n",
       "kalimat       mercusuar itu merupakan salah satu dari tujuh keajaiban dunia kuno karena tingginya yang luar biasa (kemungkinan 460 kaki).\n",
       "r             mercusuar itu merupakan salah satu dari tujuh keajaiban dunia kuno karena tingginya yang luar biasa .                      \n",
       "Name: 5647, dtype: object"
      ]
     },
     "metadata": {},
     "output_type": "display_data"
    },
    {
     "data": {
      "text/plain": [
       "kalimat_id    848873                                                \n",
       "kata          kaki                                                  \n",
       "sense         0204                                                  \n",
       "kalimat       menara ini memiliki tinggi seluruhnya 95 m (640 kaki).\n",
       "r             menara ini memiliki tinggi seluruhnya 95 m .          \n",
       "Name: 5656, dtype: object"
      ]
     },
     "metadata": {},
     "output_type": "display_data"
    },
    {
     "data": {
      "text/plain": [
       "kalimat_id    280910                                                                                                                                                                                                                                                                                             \n",
       "kata          buah                                                                                                                                                                                                                                                                                               \n",
       "sense         0502                                                                                                                                                                                                                                                                                               \n",
       "kalimat       karaweira merupakan kelompok gugus pulau kecil yang terbagi atas dua bagian yakni karaweira besar (1 buah pulau yang bernama karaweira besar dengan luas 1, 781 km2) dan karaweira kecil (terdiri dari 6 buah pulau dan hanya 1 pulau yang diberi nama, yaitu pulau doriau dengan luas 0,3755 km2).\n",
       "r             karaweira merupakan kelompok gugus pulau kecil yang terbagi atas dua bagian yakni karaweira besar  dan karaweira kecil .                                                                                                                                                                           \n",
       "Name: 5683, dtype: object"
      ]
     },
     "metadata": {},
     "output_type": "display_data"
    },
    {
     "data": {
      "text/plain": [
       "kalimat_id    1006174                                                                                                                                                                                                                                                 \n",
       "kata          mengeluarkan                                                                                                                                                                                                                                            \n",
       "sense         2906                                                                                                                                                                                                                                                    \n",
       "kalimat       satu-satunya episode saat pop membunuh cub adalah pada episode \"read 'em and weep\", karena cub dirasuki setan gurita yang berasal dari buku jahat yang dijual toothy yang memaksa pop membunuhnya (padahal lumpy telah mengeluarkan setan itu dari cub).\n",
       "r             satu-satunya episode saat pop membunuh cub adalah pada episode \"read 'em and weep\", karena cub dirasuki setan gurita yang berasal dari buku jahat yang dijual toothy yang memaksa pop membunuhnya .                                                     \n",
       "Name: 5889, dtype: object"
      ]
     },
     "metadata": {},
     "output_type": "display_data"
    },
    {
     "data": {
      "text/plain": [
       "kalimat_id    210149                                                                                                                                                                                         \n",
       "kata          bidang                                                                                                                                                                                         \n",
       "sense         1802                                                                                                                                                                                           \n",
       "kalimat       dan shevchenko juga merupakan perintis dari seni mengetsa di kekaisaran rusia (pada tahun 1860, shevchenko dianugerahi gelar akademikus di akademi seni rusia terutama dalam bidang seni etsa.)\n",
       "r             dan shevchenko juga merupakan perintis dari seni mengetsa di kekaisaran rusia                                                                                                                  \n",
       "Name: 5968, dtype: object"
      ]
     },
     "metadata": {},
     "output_type": "display_data"
    },
    {
     "data": {
      "text/plain": [
       "kalimat_id    797782                                                                                                                                                                                                                                                                                  \n",
       "kata          halaman                                                                                                                                                                                                                                                                                 \n",
       "sense         0402                                                                                                                                                                                                                                                                                    \n",
       "kalimat       nampaknya sebagian besar dari naskah latin kurang lebih telah diturunkan dari teks sangermanensis \"setelah\" naskah dimutilasi (yang mengindikasikan bahwa halaman yang telah dipotong sangat awal dalam sejarah naskah itu, mungkin dalam beberapa dekade setelah penulisan pada 822 m).\n",
       "r             nampaknya sebagian besar dari naskah latin kurang lebih telah diturunkan dari teks sangermanensis \"setelah\" naskah dimutilasi .                                                                                                                                                         \n",
       "Name: 6017, dtype: object"
      ]
     },
     "metadata": {},
     "output_type": "display_data"
    },
    {
     "data": {
      "text/plain": [
       "kalimat_id    797384                                                                                                                                                                                                          \n",
       "kata          halaman                                                                                                                                                                                                         \n",
       "sense         0402                                                                                                                                                                                                            \n",
       "kalimat       buku mewarnai (atau halaman mewarnai) adalah jenis buku yang berisi seni garis dimana orang dimaksudkan untuk menambahkan warna menggunakan krayon, pensil warna, pena penanda, cat atau media artistik lainnya.\n",
       "r             buku mewarnai  adalah jenis buku yang berisi seni garis dimana orang dimaksudkan untuk menambahkan warna menggunakan krayon, pensil warna, pena penanda, cat atau media artistik lainnya.                       \n",
       "Name: 6018, dtype: object"
      ]
     },
     "metadata": {},
     "output_type": "display_data"
    },
    {
     "data": {
      "text/plain": [
       "kalimat_id    833281                                                                                                                                                                 \n",
       "kata          jaringan                                                                                                                                                               \n",
       "sense         3602                                                                                                                                                                   \n",
       "kalimat       sejak agustus 2012, selain layanan keuangan dasar, exness telah menawarkan akses ke pasar antarbank dengan menggunakan akun ecn (ecn - jaringan komunikasi elektronik).\n",
       "r             sejak agustus 2012, selain layanan keuangan dasar, exness telah menawarkan akses ke pasar antarbank dengan menggunakan akun ecn .                                      \n",
       "Name: 6086, dtype: object"
      ]
     },
     "metadata": {},
     "output_type": "display_data"
    },
    {
     "data": {
      "text/plain": [
       "kalimat_id    841576                                                                                                                                                                                                         \n",
       "kata          kabur                                                                                                                                                                                                          \n",
       "sense         3802                                                                                                                                                                                                           \n",
       "kalimat       para sarjana modern juga menggunakan istilah \"stammaim\" (bahasa ibrani = sumber tertutup, kabur atau tidak disebutkan) untuk para pengarang pernyataan-pernyataan yang tidak disebutkan sumbernya dalam gemara.\n",
       "r             para sarjana modern juga menggunakan istilah \"stammaim\"  untuk para pengarang pernyataan-pernyataan yang tidak disebutkan sumbernya dalam gemara.                                                              \n",
       "Name: 6107, dtype: object"
      ]
     },
     "metadata": {},
     "output_type": "display_data"
    },
    {
     "data": {
      "text/plain": [
       "kalimat_id    918177                                                                                                            \n",
       "kata          kulit                                                                                                             \n",
       "sense         1701                                                                                                              \n",
       "kalimat       kata tersebut juga merupakan asal muasal dari nama-nama tempat zanzibar(\"pantai orang kulit hitam\") dan laut zanj.\n",
       "r             kata tersebut juga merupakan asal muasal dari nama-nama tempat zanzibar dan laut zanj.                            \n",
       "Name: 6177, dtype: object"
      ]
     },
     "metadata": {},
     "output_type": "display_data"
    },
    {
     "data": {
      "text/plain": [
       "kalimat_id    1016803                                                                                                                                                                                                         \n",
       "kata          menjaga                                                                                                                                                                                                         \n",
       "sense         2702                                                                                                                                                                                                            \n",
       "kalimat       michal juga tampaknya menjadi seorang gadis yang sering sakit-sakitan, jatuh ke lantai setiap kali michal muncul di tempat ketika kaito berada di dekat lucia (untuk menjaga kaito agar tetap menjadi miliknya).\n",
       "r             michal juga tampaknya menjadi seorang gadis yang sering sakit-sakitan, jatuh ke lantai setiap kali michal muncul di tempat ketika kaito berada di dekat lucia .                                                 \n",
       "Name: 6264, dtype: object"
      ]
     },
     "metadata": {},
     "output_type": "display_data"
    },
    {
     "data": {
      "text/plain": [
       "kalimat_id    1016803                                                                                                                                                                                                         \n",
       "kata          menjaga                                                                                                                                                                                                         \n",
       "sense         2702                                                                                                                                                                                                            \n",
       "kalimat       michal juga tampaknya menjadi seorang gadis yang sering sakit-sakitan, jatuh ke lantai setiap kali michal muncul di tempat ketika kaito berada di dekat lucia (untuk menjaga kaito agar tetap menjadi miliknya).\n",
       "r             michal juga tampaknya menjadi seorang gadis yang sering sakit-sakitan, jatuh ke lantai setiap kali michal muncul di tempat ketika kaito berada di dekat lucia .                                                 \n",
       "Name: 6284, dtype: object"
      ]
     },
     "metadata": {},
     "output_type": "display_data"
    },
    {
     "data": {
      "text/plain": [
       "kalimat_id    1096570                                                                                                                                                                                                                                                                \n",
       "kata          tinggi                                                                                                                                                                                                                                                                 \n",
       "sense         5103                                                                                                                                                                                                                                                                   \n",
       "kalimat       ritual sa'i, yakni berlari antara bukit shafa dan marwah (daerah agak tinggi di sekitar ka'bah yang sudah menjadi satu kesatuan masjidil haram, mekkah), juga didasarkan untuk mengenang ritual istri kedua nabi ibrahim ketika mencari susu untuk anaknya nabi ismail.\n",
       "r             ritual sa'i, yakni berlari antara bukit shafa dan marwah , juga didasarkan untuk mengenang ritual istri kedua nabi ibrahim ketika mencari susu untuk anaknya nabi ismail.                                                                                              \n",
       "Name: 6433, dtype: object"
      ]
     },
     "metadata": {},
     "output_type": "display_data"
    },
    {
     "data": {
      "text/plain": [
       "kalimat_id    1000488                                                                                                                                                                                                                                   \n",
       "kata          mengandung                                                                                                                                                                                                                                \n",
       "sense         2301                                                                                                                                                                                                                                      \n",
       "kalimat       otot triceps brachii atau sering disingkat otot triceps (pemberian istilah ini kurang tepat, karena ada otot lain yang mengandung kata \"triceps\"), adalah otot besar berkepala (caput) tiga karena berorigo pada tiga tempat yang berbeda.\n",
       "r             otot triceps brachii atau sering disingkat otot triceps , adalah otot besar berkepala  tiga karena berorigo pada tiga tempat yang berbeda.                                                                                                \n",
       "Name: 6616, dtype: object"
      ]
     },
     "metadata": {},
     "output_type": "display_data"
    },
    {
     "data": {
      "text/plain": [
       "kalimat_id    333220                                                                                                                                                    \n",
       "kata          cabang                                                                                                                                                    \n",
       "sense         5002                                                                                                                                                      \n",
       "kalimat       hiasan ini mungkin berupa koin atau benda simbolis kecil (misal, sepotong kecil cabang \"dogwood\" dengan kuncup, melambangkan kesehatan atau umur panjang).\n",
       "r             hiasan ini mungkin berupa koin atau benda simbolis kecil .                                                                                                \n",
       "Name: 6854, dtype: object"
      ]
     },
     "metadata": {},
     "output_type": "display_data"
    },
    {
     "data": {
      "text/plain": [
       "kalimat_id    1097116                                                                                                                                                                                                                                                             \n",
       "kata          tinggi                                                                                                                                                                                                                                                              \n",
       "sense         5106                                                                                                                                                                                                                                                                \n",
       "kalimat       cina hampir sepenuhnya bergantung pada proses pidgeon silikotermik (reduksi oksida pada suhu tinggi dengan silikon, yang sering tersedia sebagai paduan ferosilikon di mana besi tersebut hanyalah sebagai spektator dalam reaksi) untuk mendapatkan logam tersebut.\n",
       "r             cina hampir sepenuhnya bergantung pada proses pidgeon silikotermik  untuk mendapatkan logam tersebut.                                                                                                                                                               \n",
       "Name: 7089, dtype: object"
      ]
     },
     "metadata": {},
     "output_type": "display_data"
    },
    {
     "data": {
      "text/plain": [
       "kalimat_id    1085617                                                                                                                                                                                                                                                                                                                                                                                                                                                                                                                 \n",
       "kata          tinggi                                                                                                                                                                                                                                                                                                                                                                                                                                                                                                                  \n",
       "sense         5105                                                                                                                                                                                                                                                                                                                                                                                                                                                                                                                    \n",
       "kalimat       ratu dalam parlemen (atau raja dalam parlemen saat masa pemerintahan penguasa laki-laki), terkadang disebut sebagai mahkota dalam parlemen, atau lebih lengkapnya disebut raja/ratu dalam parlemen di bawah naungan allah di britania raya, adalah sebuah istilah teknis dari hukum konstitusional dalam kerajaan-kerajaan persemakmuran yang merujuk kepada mahkota dalam peran legislatif, bertindak atas nasehat dan perhatian dari parlemen (termasuk dewan rendah dan dewan tinggi bila parlemen adalah bikameral).\n",
       "r             ratu dalam parlemen , terkadang disebut sebagai mahkota dalam parlemen, atau lebih lengkapnya disebut raja/ratu dalam parlemen di bawah naungan allah di britania raya, adalah sebuah istilah teknis dari hukum konstitusional dalam kerajaan-kerajaan persemakmuran yang merujuk kepada mahkota dalam peran legislatif, bertindak atas nasehat dan perhatian dari parlemen .                                                                                                                                           \n",
       "Name: 7097, dtype: object"
      ]
     },
     "metadata": {},
     "output_type": "display_data"
    },
    {
     "data": {
      "text/plain": [
       "kalimat_id    37156                                                                                                                                                                                                                                         \n",
       "kata          atas                                                                                                                                                                                                                                          \n",
       "sense         4403                                                                                                                                                                                                                                          \n",
       "kalimat       branchville diberi nama untuk jalur rel \"cabang\" dari danbury dan norwalk railroad menuju desa ridgefieldm sepanjang lima mil pada tanjakan (ketinggian branchville 342 kaki ketika stasiun desa lama berada 900 kaki di atas permukaan laut).\n",
       "r             branchville diberi nama untuk jalur rel \"cabang\" dari danbury dan norwalk railroad menuju desa ridgefieldm sepanjang lima mil pada tanjakan .                                                                                                 \n",
       "Name: 7134, dtype: object"
      ]
     },
     "metadata": {},
     "output_type": "display_data"
    },
    {
     "data": {
      "text/plain": [
       "kalimat_id    1052261                                                                                                                                                                                                                                                                                                                                                                        \n",
       "kata          rapat                                                                                                                                                                                                                                                                                                                                                                          \n",
       "sense         4402                                                                                                                                                                                                                                                                                                                                                                           \n",
       "kalimat       beberapa perbedaannya dengan jenis di atas ialah, \"p. minima\" berambut panjang pada bagian-bagian batang dan daun yang berwarna hijau (\"angulata\": berambut pendek atau gundul); tanda v di bawah noda di leher mahkota tidak jelas (\"angulata\": ada kelompok rambut pendek dan rapat membentuk tanda v yang jelas); dan kepala sari berwarna kuning dengan sedikit warna biru.\n",
       "r             beberapa perbedaannya dengan jenis di atas ialah, \"p. minima\" berambut panjang pada bagian-bagian batang dan daun yang berwarna hijau ; tanda v di bawah noda di leher mahkota tidak jelas ; dan kepala sari berwarna kuning dengan sedikit warna biru.                                                                                                                        \n",
       "Name: 7261, dtype: object"
      ]
     },
     "metadata": {},
     "output_type": "display_data"
    },
    {
     "data": {
      "text/plain": [
       "kalimat_id    797612                             \n",
       "kata          halaman                            \n",
       "sense         0401                               \n",
       "kalimat       palazzo chigi memiliki lima lantai.\n",
       "r             palazzo chigi memiliki lima lantai.\n",
       "Name: 7272, dtype: object"
      ]
     },
     "metadata": {},
     "output_type": "display_data"
    },
    {
     "data": {
      "text/plain": [
       "kalimat_id    994547                                                                                                                                                                                                \n",
       "kata          mengandung                                                                                                                                                                                            \n",
       "sense         2301                                                                                                                                                                                                  \n",
       "kalimat       hemoglobin adalah metaloprotein (protein yang mengandung zat besi) di dalam sel darah merah yang berfungsi sebagai pengangkut oksigen dari paru-paru ke seluruh tubuh, pada mamalia dan hewan lainnya.\n",
       "r             hemoglobin adalah metaloprotein  di dalam sel darah merah yang berfungsi sebagai pengangkut oksigen dari paru-paru ke seluruh tubuh, pada mamalia dan hewan lainnya.                                  \n",
       "Name: 7349, dtype: object"
      ]
     },
     "metadata": {},
     "output_type": "display_data"
    },
    {
     "data": {
      "text/plain": [
       "kalimat_id    999755                                                                                                                                                                                                             \n",
       "kata          mengandung                                                                                                                                                                                                         \n",
       "sense         2302                                                                                                                                                                                                               \n",
       "kalimat       buku ini mempersatukan terjemahan-terjemahan baru dari perpustakaan nag hammadi dengan ringkasan-ringkasan dari para penulis heresiologis (=tulisan yang mengandung ajaran sesat), dan bahan-bahan gnostik lainnya.\n",
       "r             buku ini mempersatukan terjemahan-terjemahan baru dari perpustakaan nag hammadi dengan ringkasan-ringkasan dari para penulis heresiologis , dan bahan-bahan gnostik lainnya.                                       \n",
       "Name: 7352, dtype: object"
      ]
     },
     "metadata": {},
     "output_type": "display_data"
    },
    {
     "data": {
      "text/plain": [
       "kalimat_id    993705                                                                                                                                                                                                                                                         \n",
       "kata          mengandung                                                                                                                                                                                                                                                     \n",
       "sense         2301                                                                                                                                                                                                                                                           \n",
       "kalimat       menurut para pemuka masyarakat, nama kudangwangi diambil dari kata (kudang yang artinya wadah atau tempat) dan (wangi mengandung arti harum), jadi kalau disatukan arti kudangwangi itu adalah sebuah tempat atau wadah yang harum terutama dibidang agama-nya.\n",
       "r             menurut para pemuka masyarakat, nama kudangwangi diambil dari kata  dan , jadi kalau disatukan arti kudangwangi itu adalah sebuah tempat atau wadah yang harum terutama dibidang agama-nya.                                                                    \n",
       "Name: 7360, dtype: object"
      ]
     },
     "metadata": {},
     "output_type": "display_data"
    },
    {
     "data": {
      "text/plain": [
       "kalimat_id    1010688                                                                                                                                                                                                                                                                \n",
       "kata          mengikat                                                                                                                                                                                                                                                               \n",
       "sense         2201                                                                                                                                                                                                                                                                   \n",
       "kalimat       hadron (, dari , \"hadrós\", \"kokoh, tebal\") dalam ilmu fisika partikel, adalah sebuah partikel yang terbuat dari beberapa quark yang diikat bersama-sama oleh suatu gaya yang kuat (yang mirip dengan gaya elektromagnetik yang mengikat atom-atom dan molekul-molekul).\n",
       "r             hadron  dalam ilmu fisika partikel, adalah sebuah partikel yang terbuat dari beberapa quark yang diikat bersama-sama oleh suatu gaya yang kuat .                                                                                                                       \n",
       "Name: 7363, dtype: object"
      ]
     },
     "metadata": {},
     "output_type": "display_data"
    },
    {
     "data": {
      "text/plain": [
       "kalimat_id    1010909                                                                                                                                                                                                                                                                                                                                                                                   \n",
       "kata          mengikat                                                                                                                                                                                                                                                                                                                                                                                  \n",
       "sense         2204                                                                                                                                                                                                                                                                                                                                                                                      \n",
       "kalimat       anchoring junctions terdapat dalam 4 bentuk yang berbeda secara fungsional yaitu adherens junctions dan desmosom (memegang sel bersama-sama dan dibentuk oleh transmembrane adhesion proteins yang termasuk dalam famili cadherin), focal adhesions dan hemidesmosom (mengikat sel-sel pada matriks ekstraseluler dan dibentuk oleh transmembrane adhesion proteins pada famili integrin).\n",
       "r             anchoring junctions terdapat dalam 4 bentuk yang berbeda secara fungsional yaitu adherens junctions dan desmosom , focal adhesions dan hemidesmosom .                                                                                                                                                                                                                                     \n",
       "Name: 41, dtype: object"
      ]
     },
     "metadata": {},
     "output_type": "display_data"
    },
    {
     "data": {
      "text/plain": [
       "kalimat_id    334577                                                                                                                                                                                                                                                                                           \n",
       "kata          cabang                                                                                                                                                                                                                                                                                           \n",
       "sense         5001                                                                                                                                                                                                                                                                                             \n",
       "kalimat       pendidikan dasar untuk mengenal huruf dan angka masih menjadi tanggung jawab keluarga atau imam desa, namun mata pelajaran sekunder \"trivium\" (trimarga, tiga cabang ilmu), yakni tata bahasa, retorika, dan logika, dipelajari di sekolah-sekolah katedral atau sekolah-sekolah pemerintah kota.\n",
       "r             pendidikan dasar untuk mengenal huruf dan angka masih menjadi tanggung jawab keluarga atau imam desa, namun mata pelajaran sekunder \"trivium\" , yakni tata bahasa, retorika, dan logika, dipelajari di sekolah-sekolah katedral atau sekolah-sekolah pemerintah kota.                            \n",
       "Name: 305, dtype: object"
      ]
     },
     "metadata": {},
     "output_type": "display_data"
    },
    {
     "data": {
      "text/plain": [
       "kalimat_id    334751                                                                                                                                                                                                            \n",
       "kata          cabang                                                                                                                                                                                                            \n",
       "sense         5001                                                                                                                                                                                                              \n",
       "kalimat       12555/mp/1963, tanggal 9 desember 1963, tentang pengangkatan catur tunggal provinsi ntt sebagai presidium universitas dengan ketua : muh.salim,sh (kepala cabang kejaksaan tinggi di kupang) dan sekretaris : drs.\n",
       "r             12555/mp/1963, tanggal 9 desember 1963, tentang pengangkatan catur tunggal provinsi ntt sebagai presidium universitas dengan ketua : muh.salim,sh  dan sekretaris : drs.                                          \n",
       "Name: 307, dtype: object"
      ]
     },
     "metadata": {},
     "output_type": "display_data"
    },
    {
     "data": {
      "text/plain": [
       "kalimat_id    934460                                                                                                                              \n",
       "kata          lingkungan                                                                                                                          \n",
       "sense         3401                                                                                                                                \n",
       "kalimat       vibrio parahaemolyticus adalah bakteri laut yang bersifat halofil (habitatnya ada pada lingkungan dengan kondisi garam yang tinggi).\n",
       "r             vibrio parahaemolyticus adalah bakteri laut yang bersifat halofil .                                                                 \n",
       "Name: 575, dtype: object"
      ]
     },
     "metadata": {},
     "output_type": "display_data"
    },
    {
     "data": {
      "text/plain": [
       "kalimat_id    1019233                                                                                                                                                                                                                                                                                                                                          \n",
       "kata          menurunkan                                                                                                                                                                                                                                                                                                                                       \n",
       "sense         2102                                                                                                                                                                                                                                                                                                                                             \n",
       "kalimat       untuk keperluan pengolahan citra, meskipun format png bisa dijadikan alternatif selama proses pengolahan citra - karena format ini selain tidak menghilangkan bagian dari citra yang sedang diolah (sehingga penyimpanan berulang ulang dari citra tidak akan menurunkan kualitas citra) namun format jpeg masih menjadi pilihan yang lebih baik.\n",
       "r             untuk keperluan pengolahan citra, meskipun format png bisa dijadikan alternatif selama proses pengolahan citra - karena format ini selain tidak menghilangkan bagian dari citra yang sedang diolah  namun format jpeg masih menjadi pilihan yang lebih baik.                                                                                     \n",
       "Name: 87, dtype: object"
      ]
     },
     "metadata": {},
     "output_type": "display_data"
    },
    {
     "data": {
      "text/plain": [
       "kalimat_id    1053840                                                                                                                                                                                                                                                                                                                                                                             \n",
       "kata          sarung                                                                                                                                                                                                                                                                                                                                                                              \n",
       "sense         1201                                                                                                                                                                                                                                                                                                                                                                                \n",
       "kalimat       kemudian ken arok menguji keris tersebut dan terakhir keris tersebut ditusukkannya pada mpu gandring yang konon menurutnya tidak menepati janji (karena sarung keris itu belum selesai dibuat) selebihnya bahkan dikatakan untuk menguji kemampuan keris tersebut melawan kekuatan supranatural si pembuat keris (yang justru disimpan dalam keris itu untuk menambah kemampuannya).\n",
       "r             kemudian ken arok menguji keris tersebut dan terakhir keris tersebut ditusukkannya pada mpu gandring yang konon menurutnya tidak menepati janji  selebihnya bahkan dikatakan untuk menguji kemampuan keris tersebut melawan kekuatan supranatural si pembuat keris .                                                                                                                \n",
       "Name: 171, dtype: object"
      ]
     },
     "metadata": {},
     "output_type": "display_data"
    },
    {
     "data": {
      "text/plain": [
       "kalimat_id    1054048                                                                                                                                                                                                                                                                                                                                                                                                                                                  \n",
       "kata          sarung                                                                                                                                                                                                                                                                                                                                                                                                                                                   \n",
       "sense         1202                                                                                                                                                                                                                                                                                                                                                                                                                                                     \n",
       "kalimat       kebaya jawa seperti yang ada sekarang telah dicatat oleh thomas stamford bingley raffles di 1817, sebagai sutra, brokat dan beludru, dengan pembukaan pusat dari blus diikat oleh bros, bukan tombol dan tombol-lubang di atas batang tubuh bungkus kemben, yang kain (dan pisahkan bungkus kain beberapa meter panjang keliru diberi istilah 'sarung di inggris (sarung (aksen malaysia: sarung) dijahit untuk membentuk tabung, seperti pakaian barat).\n",
       "r             kebaya jawa seperti yang ada sekarang telah dicatat oleh thomas stamford bingley raffles di 1817, sebagai sutra, brokat dan beludru, dengan pembukaan pusat dari blus diikat oleh bros, bukan tombol dan tombol-lubang di atas batang tubuh bungkus kemben, yang kain  dijahit untuk membentuk tabung, seperti pakaian barat).                                                                                                                           \n",
       "Name: 186, dtype: object"
      ]
     },
     "metadata": {},
     "output_type": "display_data"
    },
    {
     "data": {
      "text/plain": [
       "kalimat_id    701                                                                                                              \n",
       "kata          asing                                                                                                            \n",
       "sense         5302                                                                                                             \n",
       "kalimat       restoran di sanya juga terkenal karena memberi biaya yang lebih mahal kepada wisatawan (baik asing maupun lokal).\n",
       "r             restoran di sanya juga terkenal karena memberi biaya yang lebih mahal kepada wisatawan .                         \n",
       "Name: 404, dtype: object"
      ]
     },
     "metadata": {},
     "output_type": "display_data"
    },
    {
     "data": {
      "text/plain": [
       "kalimat_id    953407                                                                                                                                                                                                                                                                                                   \n",
       "kata          membawa                                                                                                                                                                                                                                                                                                  \n",
       "sense         3005                                                                                                                                                                                                                                                                                                     \n",
       "kalimat       kota ini juga rawan banjir bandang dari jumlah besar hujan yang diakibatkan oleh tekanan rendah pantai timur (sebuah depresi tekanan rendah yang memasuki negara bagian biasanya pada musim dingin dan awal musim semi yang dapat membawa kerusakan karena hujan deras, angin badai dan gelombang besar).\n",
       "r             kota ini juga rawan banjir bandang dari jumlah besar hujan yang diakibatkan oleh tekanan rendah pantai timur .                                                                                                                                                                                           \n",
       "Name: 672, dtype: object"
      ]
     },
     "metadata": {},
     "output_type": "display_data"
    }
   ],
   "source": [
    "for _, row in c.iterrows():\n",
    "    if row['kata'] not in row['r']:\n",
    "        display(row)\n"
   ]
  }
 ],
 "metadata": {
  "kernelspec": {
   "display_name": "Python 3",
   "language": "python",
   "name": "python3"
  },
  "language_info": {
   "codemirror_mode": {
    "name": "ipython",
    "version": 3
   },
   "file_extension": ".py",
   "mimetype": "text/x-python",
   "name": "python",
   "nbconvert_exporter": "python",
   "pygments_lexer": "ipython3",
   "version": "3.7.1"
  }
 },
 "nbformat": 4,
 "nbformat_minor": 2
}
