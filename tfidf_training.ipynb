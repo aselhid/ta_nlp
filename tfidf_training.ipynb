{
 "cells": [
  {
   "cell_type": "code",
   "execution_count": 1,
   "metadata": {},
   "outputs": [],
   "source": [
    "import pandas as pd\n",
    "import numpy as np\n",
    "\n",
    "from Sastrawi.StopWordRemover.StopWordRemoverFactory import StopWordRemoverFactory\n",
    "from Sastrawi.Stemmer.StemmerFactory import StemmerFactory\n",
    "\n",
    "from sklearn.pipeline import Pipeline\n",
    "from sklearn.feature_extraction.text import TfidfVectorizer\n",
    "from sklearn.svm import SVC\n",
    "from sklearn.ensemble import RandomForestClassifier\n",
    "\n",
    "from sklearn.model_selection import train_test_split"
   ]
  },
  {
   "cell_type": "code",
   "execution_count": 2,
   "metadata": {},
   "outputs": [],
   "source": [
    "dataset = pd.read_csv('training_set/pos_tagged.csv')"
   ]
  },
  {
   "cell_type": "code",
   "execution_count": 3,
   "metadata": {
    "scrolled": true
   },
   "outputs": [
    {
     "data": {
      "text/html": [
       "<div>\n",
       "<style scoped>\n",
       "    .dataframe tbody tr th:only-of-type {\n",
       "        vertical-align: middle;\n",
       "    }\n",
       "\n",
       "    .dataframe tbody tr th {\n",
       "        vertical-align: top;\n",
       "    }\n",
       "\n",
       "    .dataframe thead th {\n",
       "        text-align: right;\n",
       "    }\n",
       "</style>\n",
       "<table border=\"1\" class=\"dataframe\">\n",
       "  <thead>\n",
       "    <tr style=\"text-align: right;\">\n",
       "      <th></th>\n",
       "      <th>kalimat_id</th>\n",
       "      <th>kata</th>\n",
       "      <th>sense</th>\n",
       "      <th>kalimat</th>\n",
       "      <th>pos</th>\n",
       "    </tr>\n",
       "  </thead>\n",
       "  <tbody>\n",
       "    <tr>\n",
       "      <th>0</th>\n",
       "      <td>336691</td>\n",
       "      <td>cerah</td>\n",
       "      <td>4801</td>\n",
       "      <td>cuaca |cerah| lazim sepanjang tahun</td>\n",
       "      <td>JJ</td>\n",
       "    </tr>\n",
       "    <tr>\n",
       "      <th>1</th>\n",
       "      <td>336270</td>\n",
       "      <td>cerah</td>\n",
       "      <td>4801</td>\n",
       "      <td>gambar dihasilkan layarnya cukup |cerah| memil...</td>\n",
       "      <td>JJ</td>\n",
       "    </tr>\n",
       "    <tr>\n",
       "      <th>2</th>\n",
       "      <td>336555</td>\n",
       "      <td>cerah</td>\n",
       "      <td>4803</td>\n",
       "      <td>masa depan |cerah| pemuda berumur 20 prancis a...</td>\n",
       "      <td>JJ</td>\n",
       "    </tr>\n",
       "    <tr>\n",
       "      <th>3</th>\n",
       "      <td>336618</td>\n",
       "      <td>cerah</td>\n",
       "      <td>4801</td>\n",
       "      <td>cor caroli alpha canum venaticorum nama lengka...</td>\n",
       "      <td>JJ</td>\n",
       "    </tr>\n",
       "    <tr>\n",
       "      <th>4</th>\n",
       "      <td>336613</td>\n",
       "      <td>cerah</td>\n",
       "      <td>4801</td>\n",
       "      <td>sanders lebih menyukai cat air lilo maksud men...</td>\n",
       "      <td>JJ</td>\n",
       "    </tr>\n",
       "  </tbody>\n",
       "</table>\n",
       "</div>"
      ],
      "text/plain": [
       "   kalimat_id   kata sense                                            kalimat  \\\n",
       "0      336691  cerah  4801                cuaca |cerah| lazim sepanjang tahun   \n",
       "1      336270  cerah  4801  gambar dihasilkan layarnya cukup |cerah| memil...   \n",
       "2      336555  cerah  4803  masa depan |cerah| pemuda berumur 20 prancis a...   \n",
       "3      336618  cerah  4801  cor caroli alpha canum venaticorum nama lengka...   \n",
       "4      336613  cerah  4801  sanders lebih menyukai cat air lilo maksud men...   \n",
       "\n",
       "  pos  \n",
       "0  JJ  \n",
       "1  JJ  \n",
       "2  JJ  \n",
       "3  JJ  \n",
       "4  JJ  "
      ]
     },
     "execution_count": 3,
     "metadata": {},
     "output_type": "execute_result"
    }
   ],
   "source": [
    "dataset.head()"
   ]
  },
  {
   "cell_type": "code",
   "execution_count": 4,
   "metadata": {},
   "outputs": [],
   "source": [
    "unique_katas = dataset['kata'].unique()\n",
    "separated = {kata: dataset[dataset['kata'] == kata] for kata in unique_katas}"
   ]
  },
  {
   "cell_type": "markdown",
   "metadata": {},
   "source": [
    "## Separated by word"
   ]
  },
  {
   "cell_type": "code",
   "execution_count": 6,
   "metadata": {
    "scrolled": true
   },
   "outputs": [
    {
     "name": "stdout",
     "output_type": "stream",
     "text": [
      "cerah 0.926829268292683\n",
      "coklat 0.7608695652173914\n",
      "jalan 0.7619047619047619\n",
      "sarung 0.8775510204081632\n",
      "mengeluarkan 0.41304347826086957\n",
      "dasar 0.7560975609756098\n",
      "dunia 0.631578947368421\n",
      "harapan 0.6818181818181818\n",
      "layar 0.8292682926829268\n",
      "menangkap 0.6666666666666666\n",
      "menyusun 0.4772727272727273\n",
      "tinggi 0.5476190476190477\n",
      "besar 0.7045454545454546\n",
      "jaringan 0.44680851063829785\n",
      "membawa 0.16279069767441862\n",
      "mengikat 0.3953488372093023\n",
      "nilai 0.525\n",
      "jam 0.4888888888888889\n",
      "ketat 0.5217391304347826\n",
      "mata 0.7560975609756098\n",
      "mengandung 0.9387755102040817\n",
      "menjaga 0.4444444444444444\n",
      "badan 0.7105263157894737\n",
      "dalam 0.35\n",
      "kunci 0.6511627906976745\n",
      "lebat 0.9787234042553191\n",
      "panas 0.925\n",
      "bunga 0.7804878048780488\n",
      "halaman 0.5641025641025641\n",
      "kepala 0.8780487804878049\n",
      "pembagian 0.5405405405405406\n",
      "bintang 0.46153846153846156\n",
      "cabang 0.9069767441860465\n",
      "mengejar 0.6585365853658537\n",
      "mengisi 0.3953488372093023\n",
      "atas 0.5581395348837209\n",
      "mendorong 0.8723404255319149\n",
      "menerima 0.5365853658536586\n",
      "rapat 0.7619047619047619\n",
      "berat 0.5555555555555556\n",
      "kabur 0.9361702127659575\n",
      "kulit 0.6097560975609756\n",
      "lingkungan 0.5\n",
      "baru 0.851063829787234\n",
      "asing 0.825\n",
      "bisa 0.6206896551724138\n",
      "buah 0.717391304347826\n",
      "kali 0.7333333333333333\n",
      "bulan 0.8367346938775511\n",
      "memecahkan 0.8260869565217391\n",
      "tengah 0.8043478260869565\n",
      "kaki 0.42857142857142855\n",
      "menurunkan 0.5952380952380952\n",
      "bidang 0.918918918918919\n",
      "==========\n",
      "avg score 0.6667366551567753\n"
     ]
    }
   ],
   "source": [
    "score_sum = 0\n",
    "good_models = {}\n",
    "bad_models = {}\n",
    "\n",
    "for kata, df in separated.items():\n",
    "    tfidf = TfidfVectorizer(ngram_range=(1,2))\n",
    "    rf = RandomForestClassifier(n_estimators=200)\n",
    "    \n",
    "    pos_dummies = pd.get_dummies(df['pos'])\n",
    "    x = df.filter(['kalimat']).join(pos_dummies)\n",
    "    y = df['sense']\n",
    "    x_train, x_test, y_train, y_test = train_test_split(x, y, random_state=1)\n",
    "    \n",
    "    try:\n",
    "        tfidf = tfidf.fit(x_train['kalimat'])\n",
    "        \n",
    "        tfidf_train_matrix = tfidf.transform(x_train['kalimat'])\n",
    "        tfidf_train = pd.DataFrame(tfidf_train_matrix.toarray(), columns=tfidf.get_feature_names())\n",
    "        train_df = x_train.drop(['kalimat'], axis=1).reset_index().join(tfidf_train)\n",
    "        \n",
    "        rf = rf.fit(train_df, y_train)\n",
    "        \n",
    "        tfidf_test_matrix = tfidf.transform(x_test['kalimat'])\n",
    "        tfidf_test = pd.DataFrame(tfidf_test_matrix.toarray(), columns=tfidf.get_feature_names())\n",
    "        test_df = x_test.drop(['kalimat'], axis=1).reset_index().join(tfidf_test)\n",
    "\n",
    "        score = rf.score(test_df, y_test)        \n",
    "        print(kata, score)\n",
    "        \n",
    "        if score < 0.7:\n",
    "            bad_models[kata] = (tfidf, rf)\n",
    "        else:\n",
    "            good_models[kata] = (tfidf, rf)\n",
    "        score_sum += score\n",
    "    except Exception as e:\n",
    "        print('error :', kata, e)\n",
    "    \n",
    "\n",
    "print('==========')\n",
    "print('avg score', score_sum / len(separated))"
   ]
  }
 ],
 "metadata": {
  "kernelspec": {
   "display_name": "Python 3",
   "language": "python",
   "name": "python3"
  },
  "language_info": {
   "codemirror_mode": {
    "name": "ipython",
    "version": 3
   },
   "file_extension": ".py",
   "mimetype": "text/x-python",
   "name": "python",
   "nbconvert_exporter": "python",
   "pygments_lexer": "ipython3",
   "version": "3.7.1"
  }
 },
 "nbformat": 4,
 "nbformat_minor": 2
}
